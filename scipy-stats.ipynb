{
 "cells": [
  {
   "cell_type": "markdown",
   "metadata": {},
   "source": [
    "\n",
    "<center><img src='Images/scipy_logo.png' style=\"width:200px\"></center>\n",
    "\n",
    "<br>\n",
    "\n",
    "# <center><b>Scipy-stats Project</b></center>\n"
   ]
  },
  {
   "cell_type": "markdown",
   "metadata": {},
   "source": [
    "<br>\n",
    "\n",
    "## Table of Contents\n",
    "***\n",
    "\n",
    "#### 1. [Introduction]()\n",
    "#### 2. [Exploration of the Data]()\n",
    "- [Visualise the Data](#)<br>\n",
    "\n",
    "#### 3. [t-Test]()<br>\n",
    "#### 4. [Anova]()<br>\n"
   ]
  },
  {
   "cell_type": "markdown",
   "metadata": {},
   "source": [
    "<br>\n",
    "\n",
    "***\n",
    "# <center><b>1. Introduction</b></center>\n",
    "***\n",
    "\n",
    "<br>\n",
    "\n",
    "The SciPy library contains many statistical functions which are fundamental to data analysis. The scipy.stats package is a sub-package of the SciPy library and mainly deals with probabilistic distributions and statistical functions. It is an open-source library and is continuously growing in functionality.[https://data-flair.training/blogs/scipy-statistical-functions/] In this project, we will look at the t-test & ANOVA functions from the scipy-stats package for hypothesis testing.\n",
    "\n",
    "<i>Inferentional Statistics and Hypothesis Testing</i>\n",
    "\n",
    "Unlike descriptive statistics which summarises the features of the data set, inferential statistics assists us to come up with conclusions and predictions based on data. After collecting a given sample, inferential statistics allows us to understand the larger population based on that smaller sample. \n",
    "\n",
    "There are <b>two main uses of inferential statistics</b>[https://www.scribbr.com/statistics/inferential-statistics/]: \n",
    "\n",
    "- give estimations about populations\n",
    "- test hypothesis to make conclusions about populations\n",
    "\n",
    "In hypothesis testing the null-hypothesis is that two possibilites are the same.[https://en.wikipedia.org/wiki/Null_hypothesis#:~:text=In%20inferential%20statistics%2C%20the%20null,the%20null%20hypothesis%20is%20true.] That is, that the perceived difference of the two possibilites is down to chance alone. \n",
    "\n",
    "\n",
    "A data set about blood pressure before and after medication will be used for performing our tests.[https://raw.githubusercontent.com/researchpy/Data-sets/master/blood_pressure.csv] The data of interest is the male and female groups after they received medication to treat blood pressure. "
   ]
  },
  {
   "cell_type": "markdown",
   "metadata": {},
   "source": [
    "***\n",
    "# <center><b>2. Exploration of the Data</b></center>\n",
    "***"
   ]
  },
  {
   "cell_type": "markdown",
   "metadata": {},
   "source": [
    "<br>\n",
    "\n",
    "### Import libraries\n",
    "***"
   ]
  },
  {
   "cell_type": "markdown",
   "metadata": {},
   "source": [
    "Here, we are simply importing all of the libraries that we will use throughout this notebook."
   ]
  },
  {
   "cell_type": "code",
   "execution_count": 2,
   "metadata": {},
   "outputs": [],
   "source": [
    "# Numerical arrays.\n",
    "import numpy as np\n",
    "\n",
    "# Dataframes.\n",
    "import pandas as pd\n",
    "\n",
    "# Plots.\n",
    "import matplotlib.pyplot as plt\n",
    "\n",
    "# More aesthetic plots.\n",
    "import seaborn as sns\n",
    "\n",
    "# Statistics.\n",
    "import scipy.stats as ss\n",
    "\n",
    "# Set default plot size.\n",
    "plt.rcParams['figure.figsize'] = (12, 6)\n",
    "\n",
    "# Set default plot style.\n",
    "plt.style.use(\"ggplot\")"
   ]
  },
  {
   "cell_type": "markdown",
   "metadata": {},
   "source": [
    "<br>\n",
    "\n",
    "### Load the data\n",
    "***"
   ]
  },
  {
   "cell_type": "markdown",
   "metadata": {},
   "source": [
    "We are loading the data directly from the Github URL using the Pandas read_csv [function](https://pandas.pydata.org/docs/reference/api/pandas.read_csv.html)."
   ]
  },
  {
   "cell_type": "code",
   "execution_count": 3,
   "metadata": {},
   "outputs": [],
   "source": [
    "# Load the blood pressure dataset from its URL with pandas.\n",
    "df = pd.read_csv(\"https://raw.githubusercontent.com/researchpy/Data-sets/master/blood_pressure.csv\")\n"
   ]
  },
  {
   "cell_type": "markdown",
   "metadata": {},
   "source": [
    "<br>\n",
    "\n",
    "### Getting a 'feel' for the data\n",
    "***"
   ]
  },
  {
   "cell_type": "markdown",
   "metadata": {},
   "source": [
    "There are a number of functions from the Pandas library that we can use to get some useful information about the dataset."
   ]
  },
  {
   "cell_type": "code",
   "execution_count": 4,
   "metadata": {},
   "outputs": [
    {
     "name": "stdout",
     "output_type": "stream",
     "text": [
      "<class 'pandas.core.frame.DataFrame'>\n",
      "RangeIndex: 120 entries, 0 to 119\n",
      "Data columns (total 5 columns):\n",
      " #   Column     Non-Null Count  Dtype \n",
      "---  ------     --------------  ----- \n",
      " 0   patient    120 non-null    int64 \n",
      " 1   sex        120 non-null    object\n",
      " 2   agegrp     120 non-null    object\n",
      " 3   bp_before  120 non-null    int64 \n",
      " 4   bp_after   120 non-null    int64 \n",
      "dtypes: int64(3), object(2)\n",
      "memory usage: 4.8+ KB\n"
     ]
    }
   ],
   "source": [
    "# View basic information about the dataset.\n",
    "df.info()"
   ]
  },
  {
   "cell_type": "code",
   "execution_count": 5,
   "metadata": {},
   "outputs": [
    {
     "data": {
      "text/html": [
       "<div>\n",
       "<style scoped>\n",
       "    .dataframe tbody tr th:only-of-type {\n",
       "        vertical-align: middle;\n",
       "    }\n",
       "\n",
       "    .dataframe tbody tr th {\n",
       "        vertical-align: top;\n",
       "    }\n",
       "\n",
       "    .dataframe thead th {\n",
       "        text-align: right;\n",
       "    }\n",
       "</style>\n",
       "<table border=\"1\" class=\"dataframe\">\n",
       "  <thead>\n",
       "    <tr style=\"text-align: right;\">\n",
       "      <th></th>\n",
       "      <th>patient</th>\n",
       "      <th>sex</th>\n",
       "      <th>agegrp</th>\n",
       "      <th>bp_before</th>\n",
       "      <th>bp_after</th>\n",
       "    </tr>\n",
       "  </thead>\n",
       "  <tbody>\n",
       "    <tr>\n",
       "      <th>0</th>\n",
       "      <td>1</td>\n",
       "      <td>Male</td>\n",
       "      <td>30-45</td>\n",
       "      <td>143</td>\n",
       "      <td>153</td>\n",
       "    </tr>\n",
       "    <tr>\n",
       "      <th>1</th>\n",
       "      <td>2</td>\n",
       "      <td>Male</td>\n",
       "      <td>30-45</td>\n",
       "      <td>163</td>\n",
       "      <td>170</td>\n",
       "    </tr>\n",
       "    <tr>\n",
       "      <th>2</th>\n",
       "      <td>3</td>\n",
       "      <td>Male</td>\n",
       "      <td>30-45</td>\n",
       "      <td>153</td>\n",
       "      <td>168</td>\n",
       "    </tr>\n",
       "    <tr>\n",
       "      <th>3</th>\n",
       "      <td>4</td>\n",
       "      <td>Male</td>\n",
       "      <td>30-45</td>\n",
       "      <td>153</td>\n",
       "      <td>142</td>\n",
       "    </tr>\n",
       "    <tr>\n",
       "      <th>4</th>\n",
       "      <td>5</td>\n",
       "      <td>Male</td>\n",
       "      <td>30-45</td>\n",
       "      <td>146</td>\n",
       "      <td>141</td>\n",
       "    </tr>\n",
       "  </tbody>\n",
       "</table>\n",
       "</div>"
      ],
      "text/plain": [
       "   patient   sex agegrp  bp_before  bp_after\n",
       "0        1  Male  30-45        143       153\n",
       "1        2  Male  30-45        163       170\n",
       "2        3  Male  30-45        153       168\n",
       "3        4  Male  30-45        153       142\n",
       "4        5  Male  30-45        146       141"
      ]
     },
     "execution_count": 5,
     "metadata": {},
     "output_type": "execute_result"
    }
   ],
   "source": [
    "# View the first few rows.\n",
    "df.head()"
   ]
  },
  {
   "cell_type": "code",
   "execution_count": 6,
   "metadata": {},
   "outputs": [
    {
     "data": {
      "text/plain": [
       "patient      120\n",
       "sex          120\n",
       "agegrp       120\n",
       "bp_before    120\n",
       "bp_after     120\n",
       "dtype: int64"
      ]
     },
     "execution_count": 6,
     "metadata": {},
     "output_type": "execute_result"
    }
   ],
   "source": [
    "# Check for any null values.\n",
    "df.isnull().count()"
   ]
  },
  {
   "cell_type": "markdown",
   "metadata": {},
   "source": [
    "The result shows there are <b>no null values</b> in the dataset."
   ]
  },
  {
   "cell_type": "code",
   "execution_count": 7,
   "metadata": {},
   "outputs": [
    {
     "data": {
      "text/html": [
       "<div>\n",
       "<style scoped>\n",
       "    .dataframe tbody tr th:only-of-type {\n",
       "        vertical-align: middle;\n",
       "    }\n",
       "\n",
       "    .dataframe tbody tr th {\n",
       "        vertical-align: top;\n",
       "    }\n",
       "\n",
       "    .dataframe thead th {\n",
       "        text-align: right;\n",
       "    }\n",
       "</style>\n",
       "<table border=\"1\" class=\"dataframe\">\n",
       "  <thead>\n",
       "    <tr style=\"text-align: right;\">\n",
       "      <th></th>\n",
       "      <th>patient</th>\n",
       "      <th>bp_before</th>\n",
       "      <th>bp_after</th>\n",
       "    </tr>\n",
       "  </thead>\n",
       "  <tbody>\n",
       "    <tr>\n",
       "      <th>count</th>\n",
       "      <td>120.000000</td>\n",
       "      <td>120.000000</td>\n",
       "      <td>120.000000</td>\n",
       "    </tr>\n",
       "    <tr>\n",
       "      <th>mean</th>\n",
       "      <td>60.500000</td>\n",
       "      <td>156.450000</td>\n",
       "      <td>151.358333</td>\n",
       "    </tr>\n",
       "    <tr>\n",
       "      <th>std</th>\n",
       "      <td>34.785054</td>\n",
       "      <td>11.389845</td>\n",
       "      <td>14.177622</td>\n",
       "    </tr>\n",
       "    <tr>\n",
       "      <th>min</th>\n",
       "      <td>1.000000</td>\n",
       "      <td>138.000000</td>\n",
       "      <td>125.000000</td>\n",
       "    </tr>\n",
       "    <tr>\n",
       "      <th>25%</th>\n",
       "      <td>30.750000</td>\n",
       "      <td>147.000000</td>\n",
       "      <td>140.750000</td>\n",
       "    </tr>\n",
       "    <tr>\n",
       "      <th>50%</th>\n",
       "      <td>60.500000</td>\n",
       "      <td>154.500000</td>\n",
       "      <td>149.500000</td>\n",
       "    </tr>\n",
       "    <tr>\n",
       "      <th>75%</th>\n",
       "      <td>90.250000</td>\n",
       "      <td>164.000000</td>\n",
       "      <td>161.000000</td>\n",
       "    </tr>\n",
       "    <tr>\n",
       "      <th>max</th>\n",
       "      <td>120.000000</td>\n",
       "      <td>185.000000</td>\n",
       "      <td>185.000000</td>\n",
       "    </tr>\n",
       "  </tbody>\n",
       "</table>\n",
       "</div>"
      ],
      "text/plain": [
       "          patient   bp_before    bp_after\n",
       "count  120.000000  120.000000  120.000000\n",
       "mean    60.500000  156.450000  151.358333\n",
       "std     34.785054   11.389845   14.177622\n",
       "min      1.000000  138.000000  125.000000\n",
       "25%     30.750000  147.000000  140.750000\n",
       "50%     60.500000  154.500000  149.500000\n",
       "75%     90.250000  164.000000  161.000000\n",
       "max    120.000000  185.000000  185.000000"
      ]
     },
     "execution_count": 7,
     "metadata": {},
     "output_type": "execute_result"
    }
   ],
   "source": [
    "# Summary statistics.\n",
    "df.describe()"
   ]
  },
  {
   "cell_type": "code",
   "execution_count": 8,
   "metadata": {},
   "outputs": [],
   "source": [
    "# Assign male after blood pressure to vaiable 'male'.\n",
    "male = df['bp_after'][df['sex'] == 'Male']\n",
    "\n",
    "# # Assign female after blood pressure to variable 'female'.\n",
    "female = df['bp_after'][df['sex'] == 'Female']"
   ]
  },
  {
   "cell_type": "markdown",
   "metadata": {},
   "source": [
    "<br>\n",
    "\n",
    "## <center><b>2.1. Visualise the data</b></center>\n",
    "***"
   ]
  },
  {
   "cell_type": "markdown",
   "metadata": {},
   "source": [
    "##### In this section we are interested in observing the <b>difference in means</b> between the male and female groups' blood pressure after medication."
   ]
  },
  {
   "cell_type": "markdown",
   "metadata": {},
   "source": [
    "<br>\n",
    "\n",
    "#### Box plots\n",
    "***\n",
    "To create a boxplot, we will use the [Seaborn boxplot() function](https://seaborn.pydata.org/generated/seaborn.boxplot.html) on top of matplotlib."
   ]
  },
  {
   "cell_type": "code",
   "execution_count": 9,
   "metadata": {},
   "outputs": [
    {
     "data": {
      "image/png": "[encoded data removed]",
      "text/plain": [
       "<Figure size 864x432 with 2 Axes>"
      ]
     },
     "metadata": {},
     "output_type": "display_data"
    }
   ],
   "source": [
    "# Change plot size. \n",
    "plt.rcParams['figure.figsize'] = (12, 6)\n",
    "\n",
    "# Create one figure and two plots.\n",
    "fig, ax = plt.subplots(1, 2)\n",
    "\n",
    "# Set to a default style.\n",
    "sns.set_style(\"darkgrid\")\n",
    "\n",
    "# Plot boxplot of male bp data after treatment. \n",
    "sns.boxplot(ax=ax[0], data=df, y=male)\n",
    "\n",
    "# Set plot title for first plot.\n",
    "ax[0].set_title(label=\"Male\")\n",
    "\n",
    "# Plot boxplot of female bp data after treatment.\n",
    "sns.boxplot(ax=ax[1], data=df, y=female)\n",
    "\n",
    "# Set plot title for second plot.\n",
    "ax[1].set_title(label=\"Female\");"
   ]
  },
  {
   "cell_type": "markdown",
   "metadata": {},
   "source": [
    "The <b>median in the male group appears off-center</b> while there appears to be some <b>outliers in the female plot</b>. At this stage, <b>creating another visualisation is important in order to establish whether the data is skewed</b> (or non-symmetric) as this may affect the type of statistical analysis we can use on the data."
   ]
  },
  {
   "cell_type": "markdown",
   "metadata": {},
   "source": [
    "<br>\n",
    "\n",
    "#### Histograms with kernal density estimate (kde)\n",
    "***\n",
    "\n",
    "Here we are using Seaborn's histplot [function](https://seaborn.pydata.org/generated/seaborn.histplot.html) with the `kde` parameter set to True. This will return a histogram plot with a kernel density estimate (an estimate of the probability density function) which will allow us to <b>evaluate the extent to which the data is skewed</b>."
   ]
  },
  {
   "cell_type": "code",
   "execution_count": 73,
   "metadata": {},
   "outputs": [
    {
     "data": {
      "image/png": "[encoded data removed]",
      "text/plain": [
       "<Figure size 864x576 with 1 Axes>"
      ]
     },
     "metadata": {},
     "output_type": "display_data"
    }
   ],
   "source": [
    "# Create figure & axis & set size.\n",
    "fig, ax = plt.subplots(figsize=(12, 8))\n",
    "\n",
    "# Plot male values on histogram. \n",
    "sns.histplot(male, kde=True, color=\"blue\", edgecolor=\"black\", label=\"Male\", stat='density')\n",
    "\n",
    "# Plot female values on histogram.\n",
    "sns.histplot(female, kde=True, color=\"pink\", label=\"Female\", stat='density')\n",
    "\n",
    "# Set plot title.\n",
    "ax.set_title(\"Blood Pressure After Medication\", fontsize=20)\n",
    "\n",
    "# Add legend.\n",
    "plt.legend(fontsize=14);"
   ]
  },
  {
   "cell_type": "markdown",
   "metadata": {},
   "source": [
    "<i>What does the plot tell us?</i>\n",
    "\n",
    "- Looking at the plot, it is actually the <b>male data that appears more skewed</b>. With a normal ditribution you will see a bell shaped curve. The kde's here show that the data is <b>relatively symmetrical</b> (approximately bell-shaped).\n",
    "\n",
    "- Further, the <b>difference in means between the male and female groups appears to be significant</b>. However, it is a good idea to perform a test to figure out whether the difference in means is reliable or if it is simply due to chance. This can be measured using a t-Test."
   ]
  },
  {
   "cell_type": "markdown",
   "metadata": {},
   "source": [
    "<br>\n",
    "\n",
    "***\n",
    "# <center><b>3. t-Test</b></center>\n",
    "\n",
    "[Scipy t-Test Documentation](https://docs.scipy.org/doc/scipy/reference/generated/scipy.stats.ttest_ind.html)\n",
    "***"
   ]
  },
  {
   "cell_type": "markdown",
   "metadata": {},
   "source": [
    "<br>\n",
    "\n",
    "### What is a t-Test?\n",
    "\n",
    "([Recommended read by Ian](https://statistics.laerd.com/spss-tutorials/independent-t-test-using-spss-statistics.php))"
   ]
  },
  {
   "cell_type": "markdown",
   "metadata": {},
   "source": [
    "A t-Test is a type of inferential statistic which can tell us whether there is a significant difference between the means of <b>two groups</b> and whether the difference is reliable or if it could simply be attributed to chance.[https://www.investopedia.com/terms/t/t-test.asp] It is usually implemented on datasets where there is a normal distribution of data which may contain unknown variances. The t-Test is one of the most common statistical tests used in hypothesis testing."
   ]
  },
  {
   "cell_type": "markdown",
   "metadata": {},
   "source": [
    "<br>\n",
    "\n",
    "### Scipy.stats t-Test\n",
    "***\n",
    "\n",
    "<i>Function:</i>\n",
    "\n",
    "`scipy.stats.ttest_ind()`\n",
    "\n",
    "<i>From the documentation:</i>\n",
    "\n",
    "\"Calculate the T-test for the means of two independent samples of scores.\n",
    "\n",
    "This is a two-sided test for the null hypothesis that two independent samples have identical average (expected) values. This test assumes that the populations have identical variances by default.\"\n"
   ]
  },
  {
   "cell_type": "code",
   "execution_count": 11,
   "metadata": {},
   "outputs": [
    {
     "name": "stdout",
     "output_type": "stream",
     "text": [
      "t-value: 3.3479506182111387\tp-value: 0.0010930222986154283\n",
      "P_scipy: 0.00\n"
     ]
    }
   ],
   "source": [
    "# Run t-Test.\n",
    "t_ss, p_ss = ss.ttest_ind(male, female)\n",
    "\n",
    "# Print t-value and p_value.\n",
    "print(f\"t-value: {t_ss}\\tp-value: {p_ss}\")\n",
    "\n",
    "# Print rounded p_value.\n",
    "print(f\"P_scipy: {p_ss:0.2f}\")"
   ]
  },
  {
   "cell_type": "markdown",
   "metadata": {},
   "source": [
    "<br>\n",
    "\n",
    "<b>Interpretation:</b> \n",
    "\n",
    "The p-value is 0.001 which is a <b>statistically significant</b>."
   ]
  },
  {
   "cell_type": "markdown",
   "metadata": {},
   "source": [
    "<br>\n",
    "\n",
    "### Assumption check\n",
    "***\n",
    "\n",
    "Assumption checks are an important part of the t-Test. \n",
    "\n",
    "Here, we will look at the [t-Test assumptions](https://www.investopedia.com/ask/answers/073115/what-assumptions-are-made-when-conducting-ttest.asp) outlined by <i>Investopedia</i> and check our data simultaneously.[https://www.investopedia.com/ask/answers/073115/what-assumptions-are-made-when-conducting-ttest.asp]\n",
    "\n",
    "<b>Assumptions:</b>\n",
    "\n",
    "<i>1: The scale of measurement applied to the data must be continuous (or ordinal).</i>\n",
    "\n",
    "<b>Check:</b> The BP data we are using is continuous as the value can be anywhere on scale (i.e, there are a number of measurements between two realistic points).\n",
    "\n",
    "<i>2: The data is collected from a representative, randomly selected portion of the total population.</i>\n",
    "\n",
    "<b>Check:</b> For the purposes of the project this assumption it is neccessary to satisfy this assumption.\n",
    "\n",
    "<i>3: The data is normally distributed i.e, when plotted it is a bell-shaped distribution curve.</b>\n",
    "\n",
    "<b>Check:</b> The data does seems to have a normal distribution, however, further analysis is needed.\n",
    "\n",
    "<i>4: The sample is of sufficient size - it is large enough to represent the population.</i>\n",
    "\n",
    "<b>Check:</b> True.\n",
    "\n",
    "<i>5: The final assumption is the the homogeneity of variance (or statistical assumption of equal variance) is when the standard deviations of the samples are approximately the same.</i>\n",
    "    \n",
    "<b>Check:</b> Apart from the small number of outliers, we can conjecture the above assumption is true. "
   ]
  },
  {
   "cell_type": "markdown",
   "metadata": {},
   "source": [
    "#### <i>Results:</i>\n",
    "\n",
    "Based on our assumption check, <b>further analysis must be done to ensure the data is from normal distributions</b> in order to accept the null-hypothesis of the <i>t</i>-test - that there is a significant difference between the means of two groups."
   ]
  },
  {
   "cell_type": "markdown",
   "metadata": {},
   "source": [
    "<br>\n",
    "\n",
    "### Are the samples normal?\n",
    "***\n",
    "\n",
    "We can run some tests to help us determine whether the data comes from normal distribution.\n",
    "\n",
    "<br>\n",
    "\n",
    "#### scipy.stats.shapiro\n",
    "***"
   ]
  },
  {
   "cell_type": "markdown",
   "metadata": {},
   "source": [
    "The <b>null-hypothesis</b> of the Shapiro-Wilks test is that the <b>sample was drawn from a normal distribution</b>.[https://www.spss-tutorials.com/spss-shapiro-wilk-test-for-normality/]"
   ]
  },
  {
   "cell_type": "code",
   "execution_count": 57,
   "metadata": {},
   "outputs": [
    {
     "data": {
      "text/plain": [
       "ShapiroResult(statistic=0.98586106300354, pvalue=0.7147841453552246)"
      ]
     },
     "execution_count": 57,
     "metadata": {},
     "output_type": "execute_result"
    }
   ],
   "source": [
    "# Get the difference between male & female values. \n",
    "sampling_difference = male.values - female.values\n",
    "\n",
    "# Run shapiro test.\n",
    "ss.shapiro(sampling_difference)"
   ]
  },
  {
   "cell_type": "markdown",
   "metadata": {},
   "source": [
    "#### <i>Interpretation:</i>\n",
    "\n",
    "The p-value is greater than 0.05. \n",
    "\n",
    "Therefore, the <b>null-hypothesis cannot be rejected</b>.\n",
    "\n",
    "This means the test is not significant and indicates <b>the sample is from a normal distribution.</b> "
   ]
  },
  {
   "cell_type": "markdown",
   "metadata": {},
   "source": [
    "<br>\n",
    "\n",
    "#### Visual test with probplot()\n",
    "***\n",
    "\n",
    "The next test will be shown visually, using the probplot() [method](https://docs.scipy.org/doc/scipy/reference/generated/scipy.stats.probplot.html) from Scipy.stats. \n",
    "\n",
    "The method \"generates a probability plot of the sample data against the quantiles of a specified theoretical distribution.\"[https://docs.scipy.org/doc/scipy/reference/generated/scipy.stats.probplot.html] We will be using the normal distribution which is the default for probplot."
   ]
  },
  {
   "cell_type": "code",
   "execution_count": 76,
   "metadata": {},
   "outputs": [
    {
     "data": {
      "image/png": "[encoded data removed]",
      "text/plain": [
       "<Figure size 1152x576 with 1 Axes>"
      ]
     },
     "metadata": {},
     "output_type": "display_data"
    }
   ],
   "source": [
    "# Code adapted from: https://www.pythonfordatascience.org/independent-samples-t-test-python/\n",
    "\n",
    "# Create figure.\n",
    "fig = plt.figure(figsize= (16, 8))\n",
    "\n",
    "# Create axis.\n",
    "ax = fig.add_subplot()\n",
    "\n",
    "# Create plot with matplotlib.\n",
    "ss.probplot(sampling_difference, plot=plt, rvalue=True)\n",
    "\n",
    "# Set plot title.\n",
    "ax.set_title(\"QQ Probability plot of sampling difference\", fontsize= 20)\n",
    "\n",
    "# Set x-axis label.\n",
    "ax.set_xlabel(\"Normal quantiles\")\n",
    "\n",
    "plt.show()"
   ]
  },
  {
   "cell_type": "markdown",
   "metadata": {},
   "source": [
    "# this is a test"
   ]
  }
 ],
 "metadata": {
  "kernelspec": {
   "display_name": "Python 3 (ipykernel)",
   "language": "python",
   "name": "python3"
  },
  "language_info": {
   "codemirror_mode": {
    "name": "ipython",
    "version": 3
   },
   "file_extension": ".py",
   "mimetype": "text/x-python",
   "name": "python",
   "nbconvert_exporter": "python",
   "pygments_lexer": "ipython3",
   "version": "3.8.5"
  }
 },
 "nbformat": 4,
 "nbformat_minor": 4
}
