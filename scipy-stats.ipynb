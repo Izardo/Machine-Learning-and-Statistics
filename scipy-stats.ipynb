{
 "cells": [
  {
   "cell_type": "markdown",
   "metadata": {},
   "source": [
    "\n",
    "<center><img src='Images/scipy_logo.png' style=\"width:200px\"></center>\n",
    "\n",
    "<br>\n",
    "\n",
    "# <center><b>Scipy-stats Project</b></center>\n"
   ]
  },
  {
   "cell_type": "markdown",
   "metadata": {},
   "source": [
    "<br>\n",
    "\n",
    "## Table of Contents\n",
    "***\n",
    "\n",
    "#### 1. [Introduction]()\n",
    "#### 2. [Exploration of the Data]()\n",
    "- [Visualise the Data - Plots](#)<br>\n",
    "\n",
    "#### 3. [t-Test]()<br>\n",
    "#### 4. [Anova]()<br>\n"
   ]
  },
  {
   "cell_type": "markdown",
   "metadata": {},
   "source": [
    "<br>\n",
    "\n",
    "***\n",
    "## <center>1. Introduction</center>\n",
    "***\n",
    "\n",
    "<br>\n",
    "\n",
    "The SciPy library contains many statistical functions which are fundamental to data analysis. The scipy.stats package is a sub-package of the SciPy library and mainly deals with probabilistic distributions and statistical functions. It is an open-source library and is continuously growing in functionality.[https://data-flair.training/blogs/scipy-statistical-functions/]\n",
    "\n",
    "In this project, we will look at the t-test function from the scipy-stats package."
   ]
  },
  {
   "cell_type": "markdown",
   "metadata": {},
   "source": [
    "## The null hypothesis/hypothesis testing\n",
    "***\n",
    "\n",
    "blablabla"
   ]
  },
  {
   "cell_type": "markdown",
   "metadata": {},
   "source": [
    "***\n",
    "# <center> 2. Exploration of the Data </center>\n",
    "***"
   ]
  },
  {
   "cell_type": "markdown",
   "metadata": {},
   "source": [
    "<br>\n",
    "\n",
    "### Import libraries\n",
    "***"
   ]
  },
  {
   "cell_type": "markdown",
   "metadata": {},
   "source": [
    "<br>\n",
    "\n",
    "Here, we are simply importing all of the libraries that we will use throughout this notebook."
   ]
  },
  {
   "cell_type": "code",
   "execution_count": 10,
   "metadata": {},
   "outputs": [],
   "source": [
    "# Numerical arrays.\n",
    "import numpy as np\n",
    "\n",
    "# Dataframes.\n",
    "import pandas as pd\n",
    "\n",
    "# Plots.\n",
    "import matplotlib.pyplot as plt\n",
    "\n",
    "# More aesthetic plots.\n",
    "import seaborn as sns\n",
    "\n",
    "# Statistics.\n",
    "import scipy.stats as ss\n",
    "\n",
    "# Set default plot size.\n",
    "plt.rcParams['figure.figsize'] = (12, 6)\n",
    "\n",
    "# Set default plot style.\n",
    "plt.style.use(\"ggplot\")"
   ]
  },
  {
   "cell_type": "markdown",
   "metadata": {},
   "source": [
    "<br>\n",
    "\n",
    "### Load the data\n",
    "***"
   ]
  },
  {
   "cell_type": "markdown",
   "metadata": {},
   "source": [
    "<br>\n",
    "\n",
    "We are loading the data directly from the Github URL using the Pandas [read_csv](https://pandas.pydata.org/docs/reference/api/pandas.read_csv.html) function."
   ]
  },
  {
   "cell_type": "code",
   "execution_count": 11,
   "metadata": {},
   "outputs": [],
   "source": [
    "# Load the blood pressure dataset from its URL with pandas.\n",
    "df = pd.read_csv(\"https://raw.githubusercontent.com/researchpy/Data-sets/master/blood_pressure.csv\")\n"
   ]
  },
  {
   "cell_type": "markdown",
   "metadata": {},
   "source": [
    "<br>\n",
    "\n",
    "### Getting a 'feel' for the data\n",
    "***"
   ]
  },
  {
   "cell_type": "markdown",
   "metadata": {},
   "source": [
    "<br>\n",
    "\n",
    "There are a number of functions from the Pandas library that we can use to get some useful information about the dataset."
   ]
  },
  {
   "cell_type": "code",
   "execution_count": 12,
   "metadata": {},
   "outputs": [
    {
     "name": "stdout",
     "output_type": "stream",
     "text": [
      "<class 'pandas.core.frame.DataFrame'>\n",
      "RangeIndex: 120 entries, 0 to 119\n",
      "Data columns (total 5 columns):\n",
      " #   Column     Non-Null Count  Dtype \n",
      "---  ------     --------------  ----- \n",
      " 0   patient    120 non-null    int64 \n",
      " 1   sex        120 non-null    object\n",
      " 2   agegrp     120 non-null    object\n",
      " 3   bp_before  120 non-null    int64 \n",
      " 4   bp_after   120 non-null    int64 \n",
      "dtypes: int64(3), object(2)\n",
      "memory usage: 4.8+ KB\n"
     ]
    }
   ],
   "source": [
    "# View basic information about the dataset.\n",
    "df.info()"
   ]
  },
  {
   "cell_type": "code",
   "execution_count": 13,
   "metadata": {},
   "outputs": [
    {
     "data": {
      "text/html": [
       "<div>\n",
       "<style scoped>\n",
       "    .dataframe tbody tr th:only-of-type {\n",
       "        vertical-align: middle;\n",
       "    }\n",
       "\n",
       "    .dataframe tbody tr th {\n",
       "        vertical-align: top;\n",
       "    }\n",
       "\n",
       "    .dataframe thead th {\n",
       "        text-align: right;\n",
       "    }\n",
       "</style>\n",
       "<table border=\"1\" class=\"dataframe\">\n",
       "  <thead>\n",
       "    <tr style=\"text-align: right;\">\n",
       "      <th></th>\n",
       "      <th>patient</th>\n",
       "      <th>sex</th>\n",
       "      <th>agegrp</th>\n",
       "      <th>bp_before</th>\n",
       "      <th>bp_after</th>\n",
       "    </tr>\n",
       "  </thead>\n",
       "  <tbody>\n",
       "    <tr>\n",
       "      <th>0</th>\n",
       "      <td>1</td>\n",
       "      <td>Male</td>\n",
       "      <td>30-45</td>\n",
       "      <td>143</td>\n",
       "      <td>153</td>\n",
       "    </tr>\n",
       "    <tr>\n",
       "      <th>1</th>\n",
       "      <td>2</td>\n",
       "      <td>Male</td>\n",
       "      <td>30-45</td>\n",
       "      <td>163</td>\n",
       "      <td>170</td>\n",
       "    </tr>\n",
       "    <tr>\n",
       "      <th>2</th>\n",
       "      <td>3</td>\n",
       "      <td>Male</td>\n",
       "      <td>30-45</td>\n",
       "      <td>153</td>\n",
       "      <td>168</td>\n",
       "    </tr>\n",
       "    <tr>\n",
       "      <th>3</th>\n",
       "      <td>4</td>\n",
       "      <td>Male</td>\n",
       "      <td>30-45</td>\n",
       "      <td>153</td>\n",
       "      <td>142</td>\n",
       "    </tr>\n",
       "    <tr>\n",
       "      <th>4</th>\n",
       "      <td>5</td>\n",
       "      <td>Male</td>\n",
       "      <td>30-45</td>\n",
       "      <td>146</td>\n",
       "      <td>141</td>\n",
       "    </tr>\n",
       "  </tbody>\n",
       "</table>\n",
       "</div>"
      ],
      "text/plain": [
       "   patient   sex agegrp  bp_before  bp_after\n",
       "0        1  Male  30-45        143       153\n",
       "1        2  Male  30-45        163       170\n",
       "2        3  Male  30-45        153       168\n",
       "3        4  Male  30-45        153       142\n",
       "4        5  Male  30-45        146       141"
      ]
     },
     "execution_count": 13,
     "metadata": {},
     "output_type": "execute_result"
    }
   ],
   "source": [
    "# View the first few rows.\n",
    "df.head()"
   ]
  },
  {
   "cell_type": "code",
   "execution_count": 14,
   "metadata": {},
   "outputs": [
    {
     "data": {
      "text/plain": [
       "patient      120\n",
       "sex          120\n",
       "agegrp       120\n",
       "bp_before    120\n",
       "bp_after     120\n",
       "dtype: int64"
      ]
     },
     "execution_count": 14,
     "metadata": {},
     "output_type": "execute_result"
    }
   ],
   "source": [
    "# Check for any null values.\n",
    "df.isnull().count()"
   ]
  },
  {
   "cell_type": "markdown",
   "metadata": {},
   "source": [
    "The result shows there are no null values in the dataset."
   ]
  },
  {
   "cell_type": "code",
   "execution_count": 15,
   "metadata": {},
   "outputs": [
    {
     "data": {
      "text/html": [
       "<div>\n",
       "<style scoped>\n",
       "    .dataframe tbody tr th:only-of-type {\n",
       "        vertical-align: middle;\n",
       "    }\n",
       "\n",
       "    .dataframe tbody tr th {\n",
       "        vertical-align: top;\n",
       "    }\n",
       "\n",
       "    .dataframe thead th {\n",
       "        text-align: right;\n",
       "    }\n",
       "</style>\n",
       "<table border=\"1\" class=\"dataframe\">\n",
       "  <thead>\n",
       "    <tr style=\"text-align: right;\">\n",
       "      <th></th>\n",
       "      <th>patient</th>\n",
       "      <th>bp_before</th>\n",
       "      <th>bp_after</th>\n",
       "    </tr>\n",
       "  </thead>\n",
       "  <tbody>\n",
       "    <tr>\n",
       "      <th>count</th>\n",
       "      <td>120.000000</td>\n",
       "      <td>120.000000</td>\n",
       "      <td>120.000000</td>\n",
       "    </tr>\n",
       "    <tr>\n",
       "      <th>mean</th>\n",
       "      <td>60.500000</td>\n",
       "      <td>156.450000</td>\n",
       "      <td>151.358333</td>\n",
       "    </tr>\n",
       "    <tr>\n",
       "      <th>std</th>\n",
       "      <td>34.785054</td>\n",
       "      <td>11.389845</td>\n",
       "      <td>14.177622</td>\n",
       "    </tr>\n",
       "    <tr>\n",
       "      <th>min</th>\n",
       "      <td>1.000000</td>\n",
       "      <td>138.000000</td>\n",
       "      <td>125.000000</td>\n",
       "    </tr>\n",
       "    <tr>\n",
       "      <th>25%</th>\n",
       "      <td>30.750000</td>\n",
       "      <td>147.000000</td>\n",
       "      <td>140.750000</td>\n",
       "    </tr>\n",
       "    <tr>\n",
       "      <th>50%</th>\n",
       "      <td>60.500000</td>\n",
       "      <td>154.500000</td>\n",
       "      <td>149.500000</td>\n",
       "    </tr>\n",
       "    <tr>\n",
       "      <th>75%</th>\n",
       "      <td>90.250000</td>\n",
       "      <td>164.000000</td>\n",
       "      <td>161.000000</td>\n",
       "    </tr>\n",
       "    <tr>\n",
       "      <th>max</th>\n",
       "      <td>120.000000</td>\n",
       "      <td>185.000000</td>\n",
       "      <td>185.000000</td>\n",
       "    </tr>\n",
       "  </tbody>\n",
       "</table>\n",
       "</div>"
      ],
      "text/plain": [
       "          patient   bp_before    bp_after\n",
       "count  120.000000  120.000000  120.000000\n",
       "mean    60.500000  156.450000  151.358333\n",
       "std     34.785054   11.389845   14.177622\n",
       "min      1.000000  138.000000  125.000000\n",
       "25%     30.750000  147.000000  140.750000\n",
       "50%     60.500000  154.500000  149.500000\n",
       "75%     90.250000  164.000000  161.000000\n",
       "max    120.000000  185.000000  185.000000"
      ]
     },
     "execution_count": 15,
     "metadata": {},
     "output_type": "execute_result"
    }
   ],
   "source": [
    "# Summary statistics.\n",
    "df.describe()"
   ]
  },
  {
   "cell_type": "markdown",
   "metadata": {},
   "source": [
    "<br>\n",
    "\n",
    "## Visualise the data\n",
    "***"
   ]
  },
  {
   "cell_type": "markdown",
   "metadata": {},
   "source": [
    "<br>\n",
    "\n",
    "<i>In this section we are interested in observing the difference in means between the male and female groups.</i>"
   ]
  },
  {
   "cell_type": "markdown",
   "metadata": {},
   "source": [
    "<br>\n",
    "\n",
    "#### Box plots\n",
    "***\n",
    "To create a boxplot, we will use the [Seaborn function boxplot()](https://seaborn.pydata.org/generated/seaborn.boxplot.html) on top of the [Matplotlib.pyplot](https://matplotlib.org/stable/api/_as_gen/matplotlib.pyplot.subplots.html) function to establish subplots."
   ]
  },
  {
   "cell_type": "code",
   "execution_count": 92,
   "metadata": {},
   "outputs": [
    {
     "data": {
      "image/png": "[encoded data removed]",
      "text/plain": [
       "<Figure size 864x432 with 2 Axes>"
      ]
     },
     "metadata": {},
     "output_type": "display_data"
    }
   ],
   "source": [
    "# Change plot size. \n",
    "plt.rcParams['figure.figsize'] = (12, 6)\n",
    "\n",
    "# Create one figure and two plots.\n",
    "fig, ax = plt.subplots(1, 2)\n",
    "\n",
    "# Set to a default style.\n",
    "sns.set_style(\"darkgrid\")\n",
    "\n",
    "# Plot boxplot of male bp data after treatment. \n",
    "sns.boxplot(ax=ax[0], data=df, y=df['bp_after'][df['sex'] == 'Male'])\n",
    "\n",
    "# Set plot title for first plot.\n",
    "ax[0].set_title(label=\"Male\")\n",
    "\n",
    "# Plot boxplot of female bp data after treatment.\n",
    "sns.boxplot(ax=ax[1], data=df, y=df['bp_after'][df['sex'] == 'Female'])\n",
    "\n",
    "# Set plot title for second plot.\n",
    "ax[1].set_title(label=\"Female\");"
   ]
  },
  {
   "cell_type": "markdown",
   "metadata": {},
   "source": [
    "In Female blood pressure plot it appears that there are some <b>outliers</b>. At this stage, creating another visualisation is <b>important in order to establish whether the data is skewed</b> (or non-symmetric) as this may affect the type of statistical analysis we can use on the data."
   ]
  },
  {
   "cell_type": "markdown",
   "metadata": {},
   "source": [
    "<br>\n",
    "\n",
    "#### Histograms with kernal density estimate (kde)\n",
    "***\n",
    "\n",
    "Here we are using [Seaborn's histplot function](https://seaborn.pydata.org/generated/seaborn.histplot.html) with the `kde` parameter set to True. This will return a histogram plot with a kernel density estimate (an estimate of the probability density function) which will allow us to evaluate the extent to which the data is skewed."
   ]
  },
  {
   "cell_type": "code",
   "execution_count": 93,
   "metadata": {},
   "outputs": [
    {
     "data": {
      "image/png": "[encoded data removed]",
      "text/plain": [
       "<Figure size 864x432 with 1 Axes>"
      ]
     },
     "metadata": {},
     "output_type": "display_data"
    }
   ],
   "source": [
    "sns.histplot(df['bp_after'][df['sex'] == 'Male'], kde=True, color=\"blue\", edgecolor=\"black\", label=\"Male BP After\")\n",
    "sns.histplot(df['bp_after'][df['sex'] == 'Female'], kde=True, color=\"pink\", label=\"Female BP After\")\n",
    "plt.legend();\n"
   ]
  },
  {
   "cell_type": "markdown",
   "metadata": {},
   "source": [
    "<i>What does the plot tell us?<i>\n",
    "\n",
    "- Looking at the plot, it is actually the male data that appears more skewed. With a normal ditribution you will see a bell shaped curve. The kde's here show that the data is relatively symmetrical and will be sufficient to use in our analysis.\n",
    "\n",
    "- Further, the difference in means between the male and female groups appears to be significant. However, it is a good idea to perform a test to figure out if the difference in means is reliable or if it is simply due to chance. This can be measured using a t-Test."
   ]
  },
  {
   "cell_type": "markdown",
   "metadata": {},
   "source": [
    "<br>\n",
    "\n",
    "***\n",
    "# <center>3. t-Test</center>\n",
    "\n",
    "[Scipy t-Test Documentation](https://docs.scipy.org/doc/scipy/reference/generated/scipy.stats.ttest_ind.html)\n",
    "***"
   ]
  },
  {
   "cell_type": "markdown",
   "metadata": {},
   "source": [
    "<br>\n",
    "\n",
    "### What is a t-Test?\n",
    "***\n",
    "\n",
    "([Recommended read by Ian](https://statistics.laerd.com/spss-tutorials/independent-t-test-using-spss-statistics.php))"
   ]
  },
  {
   "cell_type": "markdown",
   "metadata": {},
   "source": [
    "A t-Test is a type of inferential statistic which can tell us whether there is a significant difference between the means of two groups and whether the difference is reliable or if it could simply be attributed to chance.[https://www.investopedia.com/terms/t/t-test.asp] It is usually implemented on datasets where there is a normal distribution of data which may contain unknown variances. The t-Test is one of the most common statistical tests used in hypothesis testing."
   ]
  },
  {
   "cell_type": "markdown",
   "metadata": {},
   "source": [
    "<br>\n",
    "\n",
    "### Scipy.stats t-Test\n",
    "***\n",
    "<br>\n",
    "\n",
    "\n",
    "<i>Function:</i>\n",
    "\n",
    "`scipy.stats.ttest_ind()`\n",
    "\n",
    "<i>From the documentation:</i>\n",
    "\n",
    "\"Calculate the T-test for the means of two independent samples of scores.\n",
    "\n",
    "This is a two-sided test for the null hypothesis that 2 independent samples have identical average (expected) values. This test assumes that the populations have identical variances by default.\"\n",
    "\n",
    "\n",
    "<br>"
   ]
  },
  {
   "cell_type": "code",
   "execution_count": 94,
   "metadata": {},
   "outputs": [
    {
     "name": "stdout",
     "output_type": "stream",
     "text": [
      "t-value: 3.3479506182111387\tp-value: 0.0010930222986154283\n",
      "P_scipy: 0.00\n"
     ]
    }
   ],
   "source": [
    "# Run t-Test. \n",
    "# Assign t-value to t_ss & p-value to p_ss\n",
    "t_ss, p_ss = ss.ttest_ind(df['bp_after'][df['sex'] == 'Male'],\n",
    "                          df['bp_after'][df['sex'] == 'Female'])\n",
    "\n",
    "# Print t-value and p_value.\n",
    "print(f\"t-value: {t_ss}\\tp-value: {p_ss}\")\n",
    "\n",
    "# Print rounded p_value.\n",
    "print(f\"P_scipy: {p_ss:0.2f}\")"
   ]
  },
  {
   "cell_type": "markdown",
   "metadata": {},
   "source": [
    "<br>\n",
    "\n",
    "<b>The p-value is 0.001 which is a statistically significant.</b>\n"
   ]
  },
  {
   "cell_type": "markdown",
   "metadata": {},
   "source": [
    "<br>\n",
    "\n",
    "### Assumption check\n",
    "***\n",
    "\n",
    "<br>\n",
    "\n",
    "Assumption checks are an important part of the t-Test. \n",
    "\n",
    "Here, we will look at the [t-Test assumptions](https://www.investopedia.com/ask/answers/073115/what-assumptions-are-made-when-conducting-ttest.asp) and check our data simultaneously. \n",
    "\n",
    "<br>\n",
    "\n",
    "#### 1. The scale of measurement applied to the data must be continuous (or ordinal).\n",
    "\n",
    "The BP data we are using is continuous as the value can be anywhere on scale (i.e, there are a number of measurements between two realistic points).\n",
    "\n",
    "#### 2. The data is collected from a representative, randomly selected portion of the total population.\n",
    "\n",
    "For the purposes of the project this assumption it is neccessary to satisfy this assumption.\n",
    "\n",
    "#### 3. The data is normally distributed i.e, when plotted it is a bell-shaped distribution curve.\n",
    "\n",
    "The data does have a normal distribution shape as seen with the histogram plot above and the kde curve.\n",
    "\n",
    "#### 4. The sample is a sufficient size, that is, that it is a reasonably large set. A sufficiently large sample should appear as a bell-shaped curve.\n",
    "\n",
    "As above, the data has a bell-shaped curve.\n",
    "\n",
    "#### 5. The final assumption is the the homogeneity of variance (or statistical assumption of equal variance) is when the standard deviations of the samples are approximately the same. \n",
    "    \n",
    "Apart from the small nnumber of outliers, we can conjecture the above assumption is true. \n",
    "    \n",
    "<br>\n",
    "\n",
    "Source: [Investopedia](https://www.investopedia.com/ask/answers/073115/what-assumptions-are-made-when-conducting-ttest.asp)"
   ]
  },
  {
   "cell_type": "markdown",
   "metadata": {},
   "source": [
    "#### Next:\n",
    "- Maybe test male & female's seperately - could then plot data.\n",
    "- Do: Levene's test of homogeneity of variances - to check if there are high levels of variance which can lead to incorrect assumptions."
   ]
  },
  {
   "cell_type": "code",
   "execution_count": null,
   "metadata": {},
   "outputs": [],
   "source": []
  },
  {
   "cell_type": "code",
   "execution_count": null,
   "metadata": {},
   "outputs": [],
   "source": []
  },
  {
   "cell_type": "code",
   "execution_count": null,
   "metadata": {},
   "outputs": [],
   "source": []
  }
 ],
 "metadata": {
  "kernelspec": {
   "display_name": "Python 3 (ipykernel)",
   "language": "python",
   "name": "python3"
  },
  "language_info": {
   "codemirror_mode": {
    "name": "ipython",
    "version": 3
   },
   "file_extension": ".py",
   "mimetype": "text/x-python",
   "name": "python",
   "nbconvert_exporter": "python",
   "pygments_lexer": "ipython3",
   "version": "3.8.5"
  }
 },
 "nbformat": 4,
 "nbformat_minor": 4
}
