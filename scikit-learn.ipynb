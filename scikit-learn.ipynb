{
 "cells": [
  {
   "cell_type": "markdown",
   "metadata": {},
   "source": [
    "<img src=\"Images/scikitlogo.png\" width=\"250\">\n",
    "\n",
    "# Scikit Learn Project  \n",
    "\n",
    "[Scikit Learn webpage](https://scikit-learn.org/stable/)\n",
    "\n",
    "***"
   ]
  },
  {
   "cell_type": "markdown",
   "metadata": {},
   "source": [
    "<br>\n",
    "\n",
    "## Table of Contents\n",
    "\n",
    "#### [1. Introduction](#Introduction)\n",
    "- [Import libraries]()\n",
    "\n",
    "#### [2. Exploratory Analysis of Wine Quality Data](#)\n",
    "- [EDA - using Pandas]()\n",
    "- [Visualise the data - using Seaborn]()\n",
    "\n",
    "#### [3. Machine Learning](#)\n",
    "\n",
    "#### [4. ](#)\n",
    "\n",
    "#### 5. \n"
   ]
  },
  {
   "cell_type": "markdown",
   "metadata": {},
   "source": [
    "<br>\n",
    "\n",
    "## Definitions \n",
    "- Regression analysis is a way of mathematically sorting out which of those variables does indeed have an impact.\n"
   ]
  },
  {
   "cell_type": "markdown",
   "metadata": {},
   "source": [
    "<a href=#Introduction></a>\n",
    "***\n",
    "# <center> 1. Introduction </center>\n",
    "***\n",
    "\n",
    "As we strive for a 'smarter' world the use of machine learning (ML) algorithms is increasing rapidly. ML algorithm usage is widespread spanning areas such as business, medicine, consumer experience and security practices (an example of such is facial recognition). For this reason, efficient ML software is an indispensible tool for many modern processes.\n",
    "\n",
    "<b>Scikit learn</b>, also known as Sklearn, is an open-source machine learning (ML) library for python which is built on top of NumPy, SciPy and Matplotlib.[https://towardsdatascience.com/scikit-learn-vs-sklearn-6944b9dc1736] The Scikit learn library provides a wide range of supervised and unsupervised learning algorithms. The supervised learning approach \"trains\" or \"supervises\" algorithms on labeled data sets which can then classify data or acurately predict outcomes. \n",
    "\n",
    "#### Supervised vs. Unsupervised\n",
    "\n",
    "The majority of ML algorithms are supervised where there are input and output variables or labels. Supervised algorithms use these variables to analyse and train the data, producing an inferred function which is then used to map out new sample. A key process in all of this is generalising the training data and ideally, correctly determining the features for unseen data.[https://en.wikipedia.org/wiki/Supervised_learning] The statistical quality of an algorithm, how accurately the algorithm predicts the outcome values, can be measured using generalization error. Generalization error assesses the risk for sampling error, 'the difference between the sample statistic and population parameter' to ensure [Sarndal, Swenson, and Wretman (1992), Model Assisted Survey Sampling, Springer-Verlag, ISBN 0-387-40620-4]\n",
    "\n",
    "Three machine learning algorithms were chosen from the Scikit learn library to perform an analytics on the well-known Wine Quality Data Set.(https://archive.ics.uci.edu/ml/datasets/Wine+Quality) \n",
    "\n",
    "Article based on this data set: https://www.sciencedirect.com/science/article/abs/pii/S0167923609001377?via%3Dihub\n",
    "\n",
    "Useful article: <br>\n",
    "Regression from scratch — Wine quality predictionhttps://medium.datadriveninvestor.com/regression-from-scratch-wine-quality-prediction-d61195cb91c8"
   ]
  },
  {
   "cell_type": "markdown",
   "metadata": {},
   "source": [
    "## Import libraries\n",
    "***"
   ]
  },
  {
   "cell_type": "code",
   "execution_count": 489,
   "metadata": {},
   "outputs": [],
   "source": [
    "# Numerical array.\n",
    "import numpy as np\n",
    "\n",
    "# Data frames.\n",
    "import pandas as pd\n",
    "\n",
    "# Plotting.\n",
    "import matplotlib.pyplot as plt\n",
    "\n",
    "# Logistic regression.\n",
    "import sklearn.linear_model as lm\n",
    "\n",
    "# K nearest neighbours.\n",
    "import sklearn.neighbors as nei\n",
    "\n",
    "# Helper functions.\n",
    "import sklearn.model_selection as mod\n",
    "\n",
    "# Plotting nice statistical plots.\n",
    "import seaborn as sns\n",
    "\n",
    "# Metrics\n",
    "import sklearn.metrics as met\n",
    "\n",
    "# Scikit learn datasets.\n",
    "from sklearn import datasets\n",
    "\n",
    "# Opens URLs.\n",
    "import urllib.request as urllib\n",
    "\n",
    "\n",
    "#LINEar regre, \n",
    "#rom sklearn.linear_model import LinearRegression\n"
   ]
  },
  {
   "cell_type": "code",
   "execution_count": 490,
   "metadata": {},
   "outputs": [],
   "source": [
    "# Set default plot size.\n",
    "plt.rcParams['figure.figsize'] = (15, 10)\n",
    "\n",
    "# Setting colour scheme.\n",
    "plt.style.use('ggplot')"
   ]
  },
  {
   "cell_type": "markdown",
   "metadata": {},
   "source": [
    "<br>\n",
    "\n",
    "***\n",
    "# <center>2. Exploratory Analysis</center>\n",
    "### <center>Wine Quality Data Set</center>\n",
    "\n",
    "***\n",
    "\n",
    "<br>\n",
    "\n",
    "<b>Data Set objective:</b> To predict the quality score of the wine based on its chemical properties. \n",
    "\n",
    "<b>About the data set:</b>\n",
    "\n",
    "- Give list of variables & basic description. \n"
   ]
  },
  {
   "cell_type": "markdown",
   "metadata": {},
   "source": [
    "\n",
    "## Load the data\n",
    "\n",
    "[Data Set Source](https://www.kaggle.com/uciml/red-wine-quality-cortez-et-al-2009)\n",
    "***"
   ]
  },
  {
   "cell_type": "markdown",
   "metadata": {},
   "source": [
    "In this section, the [Pandas library](https://pandas.pydata.org/) will be relied on heavily for the data exploration. \n",
    "\n",
    "<i> Note, some minor processing that took place before loading the data with Pandas:</i><br>\n",
    "- Converted dataset from xlxs file to csv \n",
    "- Corrected the csv file by replacing all of the semi-colons (delimiters) with commas using the find an replace tool in the TextEdit program on Mac. "
   ]
  },
  {
   "cell_type": "code",
   "execution_count": 491,
   "metadata": {},
   "outputs": [
    {
     "data": {
      "text/html": [
       "<div>\n",
       "<style scoped>\n",
       "    .dataframe tbody tr th:only-of-type {\n",
       "        vertical-align: middle;\n",
       "    }\n",
       "\n",
       "    .dataframe tbody tr th {\n",
       "        vertical-align: top;\n",
       "    }\n",
       "\n",
       "    .dataframe thead th {\n",
       "        text-align: right;\n",
       "    }\n",
       "</style>\n",
       "<table border=\"1\" class=\"dataframe\">\n",
       "  <thead>\n",
       "    <tr style=\"text-align: right;\">\n",
       "      <th></th>\n",
       "      <th>fixed acidity</th>\n",
       "      <th>volatile acidity</th>\n",
       "      <th>citric acid</th>\n",
       "      <th>residual sugar</th>\n",
       "      <th>chlorides</th>\n",
       "      <th>free sulfur dioxide</th>\n",
       "      <th>total sulfur dioxide</th>\n",
       "      <th>density</th>\n",
       "      <th>pH</th>\n",
       "      <th>sulphates</th>\n",
       "      <th>alcohol</th>\n",
       "      <th>quality</th>\n",
       "    </tr>\n",
       "  </thead>\n",
       "  <tbody>\n",
       "    <tr>\n",
       "      <th>0</th>\n",
       "      <td>7.4</td>\n",
       "      <td>0.70</td>\n",
       "      <td>0.00</td>\n",
       "      <td>1.9</td>\n",
       "      <td>0.076</td>\n",
       "      <td>11.0</td>\n",
       "      <td>34.0</td>\n",
       "      <td>0.9978</td>\n",
       "      <td>3.51</td>\n",
       "      <td>0.56</td>\n",
       "      <td>9.4</td>\n",
       "      <td>5</td>\n",
       "    </tr>\n",
       "    <tr>\n",
       "      <th>1</th>\n",
       "      <td>7.8</td>\n",
       "      <td>0.88</td>\n",
       "      <td>0.00</td>\n",
       "      <td>2.6</td>\n",
       "      <td>0.098</td>\n",
       "      <td>25.0</td>\n",
       "      <td>67.0</td>\n",
       "      <td>0.9968</td>\n",
       "      <td>3.20</td>\n",
       "      <td>0.68</td>\n",
       "      <td>9.8</td>\n",
       "      <td>5</td>\n",
       "    </tr>\n",
       "    <tr>\n",
       "      <th>2</th>\n",
       "      <td>7.8</td>\n",
       "      <td>0.76</td>\n",
       "      <td>0.04</td>\n",
       "      <td>2.3</td>\n",
       "      <td>0.092</td>\n",
       "      <td>15.0</td>\n",
       "      <td>54.0</td>\n",
       "      <td>0.9970</td>\n",
       "      <td>3.26</td>\n",
       "      <td>0.65</td>\n",
       "      <td>9.8</td>\n",
       "      <td>5</td>\n",
       "    </tr>\n",
       "    <tr>\n",
       "      <th>3</th>\n",
       "      <td>11.2</td>\n",
       "      <td>0.28</td>\n",
       "      <td>0.56</td>\n",
       "      <td>1.9</td>\n",
       "      <td>0.075</td>\n",
       "      <td>17.0</td>\n",
       "      <td>60.0</td>\n",
       "      <td>0.9980</td>\n",
       "      <td>3.16</td>\n",
       "      <td>0.58</td>\n",
       "      <td>9.8</td>\n",
       "      <td>6</td>\n",
       "    </tr>\n",
       "    <tr>\n",
       "      <th>4</th>\n",
       "      <td>7.4</td>\n",
       "      <td>0.70</td>\n",
       "      <td>0.00</td>\n",
       "      <td>1.9</td>\n",
       "      <td>0.076</td>\n",
       "      <td>11.0</td>\n",
       "      <td>34.0</td>\n",
       "      <td>0.9978</td>\n",
       "      <td>3.51</td>\n",
       "      <td>0.56</td>\n",
       "      <td>9.4</td>\n",
       "      <td>5</td>\n",
       "    </tr>\n",
       "  </tbody>\n",
       "</table>\n",
       "</div>"
      ],
      "text/plain": [
       "   fixed acidity  volatile acidity  citric acid  residual sugar  chlorides  \\\n",
       "0            7.4              0.70         0.00             1.9      0.076   \n",
       "1            7.8              0.88         0.00             2.6      0.098   \n",
       "2            7.8              0.76         0.04             2.3      0.092   \n",
       "3           11.2              0.28         0.56             1.9      0.075   \n",
       "4            7.4              0.70         0.00             1.9      0.076   \n",
       "\n",
       "   free sulfur dioxide  total sulfur dioxide  density    pH  sulphates  \\\n",
       "0                 11.0                  34.0   0.9978  3.51       0.56   \n",
       "1                 25.0                  67.0   0.9968  3.20       0.68   \n",
       "2                 15.0                  54.0   0.9970  3.26       0.65   \n",
       "3                 17.0                  60.0   0.9980  3.16       0.58   \n",
       "4                 11.0                  34.0   0.9978  3.51       0.56   \n",
       "\n",
       "   alcohol  quality  \n",
       "0      9.4        5  \n",
       "1      9.8        5  \n",
       "2      9.8        5  \n",
       "3      9.8        6  \n",
       "4      9.4        5  "
      ]
     },
     "execution_count": 491,
     "metadata": {},
     "output_type": "execute_result"
    }
   ],
   "source": [
    "# Loading the Wine Quality Data Set.\n",
    "df = pd.read_csv(\"data/winequality_red.csv\")\n",
    "\n",
    "# View the first few lines of data set.\n",
    "df.head()"
   ]
  },
  {
   "cell_type": "markdown",
   "metadata": {},
   "source": [
    "<br>\n",
    "\n",
    "## Eyeball the data\n",
    "***"
   ]
  },
  {
   "cell_type": "markdown",
   "metadata": {},
   "source": [
    "The `Pandas.info()` function to returns some useful information such as: \n",
    "\n",
    "   - <b>the shape</b> : number of columns & rows\n",
    "   - <b>column names</b> : variables\n",
    "   - <b>Dtype</b> : data type\n",
    "   - <b>Non-Null Count</b> : the number of non-null values in data"
   ]
  },
  {
   "cell_type": "code",
   "execution_count": 492,
   "metadata": {},
   "outputs": [
    {
     "name": "stdout",
     "output_type": "stream",
     "text": [
      "<class 'pandas.core.frame.DataFrame'>\n",
      "RangeIndex: 1599 entries, 0 to 1598\n",
      "Data columns (total 12 columns):\n",
      " #   Column                Non-Null Count  Dtype  \n",
      "---  ------                --------------  -----  \n",
      " 0   fixed acidity         1599 non-null   float64\n",
      " 1   volatile acidity      1599 non-null   float64\n",
      " 2   citric acid           1599 non-null   float64\n",
      " 3   residual sugar        1599 non-null   float64\n",
      " 4   chlorides             1599 non-null   float64\n",
      " 5   free sulfur dioxide   1599 non-null   float64\n",
      " 6   total sulfur dioxide  1599 non-null   float64\n",
      " 7   density               1599 non-null   float64\n",
      " 8   pH                    1599 non-null   float64\n",
      " 9   sulphates             1599 non-null   float64\n",
      " 10  alcohol               1599 non-null   float64\n",
      " 11  quality               1599 non-null   int64  \n",
      "dtypes: float64(11), int64(1)\n",
      "memory usage: 150.0 KB\n"
     ]
    }
   ],
   "source": [
    "# Retrieve general information about the dataframe. \n",
    "df.info()"
   ]
  },
  {
   "cell_type": "markdown",
   "metadata": {},
   "source": [
    "<br>\n",
    "\n",
    "The `Pandas.isnull()` function coupled with sum() returns a count of non-null values in the data."
   ]
  },
  {
   "cell_type": "code",
   "execution_count": 493,
   "metadata": {},
   "outputs": [
    {
     "data": {
      "text/plain": [
       "fixed acidity           0\n",
       "volatile acidity        0\n",
       "citric acid             0\n",
       "residual sugar          0\n",
       "chlorides               0\n",
       "free sulfur dioxide     0\n",
       "total sulfur dioxide    0\n",
       "density                 0\n",
       "pH                      0\n",
       "sulphates               0\n",
       "alcohol                 0\n",
       "quality                 0\n",
       "dtype: int64"
      ]
     },
     "execution_count": 493,
     "metadata": {},
     "output_type": "execute_result"
    }
   ],
   "source": [
    "# Check for null values\n",
    "df.isnull().sum()"
   ]
  },
  {
   "cell_type": "markdown",
   "metadata": {},
   "source": [
    "<br>\n",
    "\n",
    "## Describe the data\n",
    "***"
   ]
  },
  {
   "cell_type": "markdown",
   "metadata": {},
   "source": [
    "The `Pandas.describe()` method gives some important statistical measures of the data such as the mean, standard deviation etc."
   ]
  },
  {
   "cell_type": "code",
   "execution_count": 494,
   "metadata": {},
   "outputs": [
    {
     "data": {
      "text/html": [
       "<div>\n",
       "<style scoped>\n",
       "    .dataframe tbody tr th:only-of-type {\n",
       "        vertical-align: middle;\n",
       "    }\n",
       "\n",
       "    .dataframe tbody tr th {\n",
       "        vertical-align: top;\n",
       "    }\n",
       "\n",
       "    .dataframe thead th {\n",
       "        text-align: right;\n",
       "    }\n",
       "</style>\n",
       "<table border=\"1\" class=\"dataframe\">\n",
       "  <thead>\n",
       "    <tr style=\"text-align: right;\">\n",
       "      <th></th>\n",
       "      <th>fixed acidity</th>\n",
       "      <th>volatile acidity</th>\n",
       "      <th>citric acid</th>\n",
       "      <th>residual sugar</th>\n",
       "      <th>chlorides</th>\n",
       "      <th>free sulfur dioxide</th>\n",
       "      <th>total sulfur dioxide</th>\n",
       "      <th>density</th>\n",
       "      <th>pH</th>\n",
       "      <th>sulphates</th>\n",
       "      <th>alcohol</th>\n",
       "      <th>quality</th>\n",
       "    </tr>\n",
       "  </thead>\n",
       "  <tbody>\n",
       "    <tr>\n",
       "      <th>count</th>\n",
       "      <td>1599.00</td>\n",
       "      <td>1599.00</td>\n",
       "      <td>1599.00</td>\n",
       "      <td>1599.00</td>\n",
       "      <td>1599.00</td>\n",
       "      <td>1599.00</td>\n",
       "      <td>1599.00</td>\n",
       "      <td>1599.00</td>\n",
       "      <td>1599.00</td>\n",
       "      <td>1599.00</td>\n",
       "      <td>1599.00</td>\n",
       "      <td>1599.00</td>\n",
       "    </tr>\n",
       "    <tr>\n",
       "      <th>mean</th>\n",
       "      <td>8.32</td>\n",
       "      <td>0.53</td>\n",
       "      <td>0.27</td>\n",
       "      <td>2.54</td>\n",
       "      <td>0.09</td>\n",
       "      <td>15.87</td>\n",
       "      <td>46.47</td>\n",
       "      <td>1.00</td>\n",
       "      <td>3.31</td>\n",
       "      <td>0.66</td>\n",
       "      <td>10.42</td>\n",
       "      <td>5.64</td>\n",
       "    </tr>\n",
       "    <tr>\n",
       "      <th>std</th>\n",
       "      <td>1.74</td>\n",
       "      <td>0.18</td>\n",
       "      <td>0.19</td>\n",
       "      <td>1.41</td>\n",
       "      <td>0.05</td>\n",
       "      <td>10.46</td>\n",
       "      <td>32.90</td>\n",
       "      <td>0.00</td>\n",
       "      <td>0.15</td>\n",
       "      <td>0.17</td>\n",
       "      <td>1.07</td>\n",
       "      <td>0.81</td>\n",
       "    </tr>\n",
       "    <tr>\n",
       "      <th>min</th>\n",
       "      <td>4.60</td>\n",
       "      <td>0.12</td>\n",
       "      <td>0.00</td>\n",
       "      <td>0.90</td>\n",
       "      <td>0.01</td>\n",
       "      <td>1.00</td>\n",
       "      <td>6.00</td>\n",
       "      <td>0.99</td>\n",
       "      <td>2.74</td>\n",
       "      <td>0.33</td>\n",
       "      <td>8.40</td>\n",
       "      <td>3.00</td>\n",
       "    </tr>\n",
       "    <tr>\n",
       "      <th>25%</th>\n",
       "      <td>7.10</td>\n",
       "      <td>0.39</td>\n",
       "      <td>0.09</td>\n",
       "      <td>1.90</td>\n",
       "      <td>0.07</td>\n",
       "      <td>7.00</td>\n",
       "      <td>22.00</td>\n",
       "      <td>1.00</td>\n",
       "      <td>3.21</td>\n",
       "      <td>0.55</td>\n",
       "      <td>9.50</td>\n",
       "      <td>5.00</td>\n",
       "    </tr>\n",
       "    <tr>\n",
       "      <th>50%</th>\n",
       "      <td>7.90</td>\n",
       "      <td>0.52</td>\n",
       "      <td>0.26</td>\n",
       "      <td>2.20</td>\n",
       "      <td>0.08</td>\n",
       "      <td>14.00</td>\n",
       "      <td>38.00</td>\n",
       "      <td>1.00</td>\n",
       "      <td>3.31</td>\n",
       "      <td>0.62</td>\n",
       "      <td>10.20</td>\n",
       "      <td>6.00</td>\n",
       "    </tr>\n",
       "    <tr>\n",
       "      <th>75%</th>\n",
       "      <td>9.20</td>\n",
       "      <td>0.64</td>\n",
       "      <td>0.42</td>\n",
       "      <td>2.60</td>\n",
       "      <td>0.09</td>\n",
       "      <td>21.00</td>\n",
       "      <td>62.00</td>\n",
       "      <td>1.00</td>\n",
       "      <td>3.40</td>\n",
       "      <td>0.73</td>\n",
       "      <td>11.10</td>\n",
       "      <td>6.00</td>\n",
       "    </tr>\n",
       "    <tr>\n",
       "      <th>max</th>\n",
       "      <td>15.90</td>\n",
       "      <td>1.58</td>\n",
       "      <td>1.00</td>\n",
       "      <td>15.50</td>\n",
       "      <td>0.61</td>\n",
       "      <td>72.00</td>\n",
       "      <td>289.00</td>\n",
       "      <td>1.00</td>\n",
       "      <td>4.01</td>\n",
       "      <td>2.00</td>\n",
       "      <td>14.90</td>\n",
       "      <td>8.00</td>\n",
       "    </tr>\n",
       "  </tbody>\n",
       "</table>\n",
       "</div>"
      ],
      "text/plain": [
       "       fixed acidity  volatile acidity  citric acid  residual sugar  \\\n",
       "count        1599.00           1599.00      1599.00         1599.00   \n",
       "mean            8.32              0.53         0.27            2.54   \n",
       "std             1.74              0.18         0.19            1.41   \n",
       "min             4.60              0.12         0.00            0.90   \n",
       "25%             7.10              0.39         0.09            1.90   \n",
       "50%             7.90              0.52         0.26            2.20   \n",
       "75%             9.20              0.64         0.42            2.60   \n",
       "max            15.90              1.58         1.00           15.50   \n",
       "\n",
       "       chlorides  free sulfur dioxide  total sulfur dioxide  density       pH  \\\n",
       "count    1599.00              1599.00               1599.00  1599.00  1599.00   \n",
       "mean        0.09                15.87                 46.47     1.00     3.31   \n",
       "std         0.05                10.46                 32.90     0.00     0.15   \n",
       "min         0.01                 1.00                  6.00     0.99     2.74   \n",
       "25%         0.07                 7.00                 22.00     1.00     3.21   \n",
       "50%         0.08                14.00                 38.00     1.00     3.31   \n",
       "75%         0.09                21.00                 62.00     1.00     3.40   \n",
       "max         0.61                72.00                289.00     1.00     4.01   \n",
       "\n",
       "       sulphates  alcohol  quality  \n",
       "count    1599.00  1599.00  1599.00  \n",
       "mean        0.66    10.42     5.64  \n",
       "std         0.17     1.07     0.81  \n",
       "min         0.33     8.40     3.00  \n",
       "25%         0.55     9.50     5.00  \n",
       "50%         0.62    10.20     6.00  \n",
       "75%         0.73    11.10     6.00  \n",
       "max         2.00    14.90     8.00  "
      ]
     },
     "execution_count": 494,
     "metadata": {},
     "output_type": "execute_result"
    }
   ],
   "source": [
    "# Statistical summary\n",
    "df.describe().round(2)  # round data to 2 decimal places"
   ]
  },
  {
   "cell_type": "markdown",
   "metadata": {},
   "source": [
    "<br>\n",
    "\n",
    "Here, a list of column names is created and stored in the variable `col_names` for use later on. "
   ]
  },
  {
   "cell_type": "code",
   "execution_count": 495,
   "metadata": {},
   "outputs": [
    {
     "data": {
      "text/plain": [
       "Index(['fixed acidity', 'volatile acidity', 'citric acid', 'residual sugar',\n",
       "       'chlorides', 'free sulfur dioxide', 'total sulfur dioxide', 'density',\n",
       "       'pH', 'sulphates', 'alcohol', 'quality'],\n",
       "      dtype='object')"
      ]
     },
     "execution_count": 495,
     "metadata": {},
     "output_type": "execute_result"
    }
   ],
   "source": [
    "# Store a list with column names for repeated use.\n",
    "col_names = df.columns\n",
    "col_names"
   ]
  },
  {
   "cell_type": "markdown",
   "metadata": {},
   "source": [
    "<br>\n",
    "\n",
    "## Visualising the data\n",
    "\n",
    "***"
   ]
  },
  {
   "cell_type": "markdown",
   "metadata": {},
   "source": [
    "Pandas has some useful methods we can use to visualise data while using minimal code to create simple plots. "
   ]
  },
  {
   "cell_type": "code",
   "execution_count": 496,
   "metadata": {},
   "outputs": [
    {
     "data": {
      "image/png": "[encoded data removed]",
      "text/plain": [
       "<Figure size 1080x720 with 12 Axes>"
      ]
     },
     "metadata": {},
     "output_type": "display_data"
    }
   ],
   "source": [
    "# Change figure size. \n",
    "plt.rcParams['figure.figsize'] = (15, 10)\n",
    "\n",
    "# Histogram and normal distribution plot of each variable.\n",
    "df.hist(rwidth=0.8, density=True);"
   ]
  },
  {
   "cell_type": "markdown",
   "metadata": {},
   "source": [
    "The histograms above gives us a general idea of the spread of values of each variable. "
   ]
  },
  {
   "cell_type": "markdown",
   "metadata": {},
   "source": [
    "<br>\n",
    "\n",
    "### Correlations Map\n",
    "***\n"
   ]
  },
  {
   "cell_type": "markdown",
   "metadata": {},
   "source": [
    "Using [Seaborn's correlation heatmap](https://seaborn.pydata.org/generated/seaborn.heatmap.html), we can visualise and measure the correlations between individual variables. Our dependent variable is of particular interest to us, we must analyse how the different properties in the wine affect its quality."
   ]
  },
  {
   "cell_type": "code",
   "execution_count": 497,
   "metadata": {},
   "outputs": [
    {
     "data": {
      "text/plain": [
       "fixed acidity           0.124052\n",
       "volatile acidity       -0.390558\n",
       "citric acid             0.226373\n",
       "residual sugar          0.013732\n",
       "chlorides              -0.128907\n",
       "free sulfur dioxide    -0.050656\n",
       "total sulfur dioxide   -0.185100\n",
       "density                -0.174919\n",
       "pH                     -0.057731\n",
       "sulphates               0.251397\n",
       "alcohol                 0.476166\n",
       "Name: quality, dtype: float64"
      ]
     },
     "execution_count": 497,
     "metadata": {},
     "output_type": "execute_result"
    }
   ],
   "source": [
    "# Get correlation values. \n",
    "correlations = df.corr()['quality'].drop('quality')\n",
    "correlations"
   ]
  },
  {
   "cell_type": "code",
   "execution_count": 498,
   "metadata": {},
   "outputs": [
    {
     "data": {
      "image/png": "[encoded data removed]",
      "text/plain": [
       "<Figure size 1080x720 with 2 Axes>"
      ]
     },
     "metadata": {},
     "output_type": "display_data"
    }
   ],
   "source": [
    "# Create figure & axis.\n",
    "fig, ax = plt.subplots()\n",
    "\n",
    "# Plot correlations.\n",
    "sns.heatmap(df.corr(), annot = True, cmap = 'RdBu')\n",
    "\n",
    "# Set plot title.\n",
    "ax.set_title(\"Wine Properties & Quality Correlations\", fontsize=16);"
   ]
  },
  {
   "cell_type": "markdown",
   "metadata": {},
   "source": [
    "<b>Most significant correalations:</b>\n",
    "- positive correlation between alcohol and quality. \n",
    "- negative correlation between quality and volatile acidity. "
   ]
  },
  {
   "cell_type": "markdown",
   "metadata": {},
   "source": [
    "<br>\n",
    "\n",
    "### List features with significant correlations\n",
    "***"
   ]
  },
  {
   "cell_type": "markdown",
   "metadata": {},
   "source": [
    "To get a list of significant correlations:\n",
    "\n",
    "- First, get the absolute (non-negative) correlation value using [Pandas `abs()`](https://pandas.pydata.org/docs/reference/api/pandas.DataFrame.abs.html) method\n",
    "- Then, abstract values over 0.05 (reason for choosing this number is explained below)\n",
    "- Finally, add the values to a list"
   ]
  },
  {
   "cell_type": "code",
   "execution_count": 499,
   "metadata": {},
   "outputs": [
    {
     "data": {
      "text/plain": [
       "['fixed acidity',\n",
       " 'volatile acidity',\n",
       " 'citric acid',\n",
       " 'chlorides',\n",
       " 'free sulfur dioxide',\n",
       " 'total sulfur dioxide',\n",
       " 'density',\n",
       " 'pH',\n",
       " 'sulphates',\n",
       " 'alcohol']"
      ]
     },
     "execution_count": 499,
     "metadata": {},
     "output_type": "execute_result"
    }
   ],
   "source": [
    "# Gets absolute numeric values of correlation results.\n",
    "abs_corrs = correlations.abs()\n",
    "\n",
    "# Save column names with correlations over 0.05 to list.\n",
    "high_corrs = abs_corrs[abs_corrs.values > 0.05].index.values.tolist()\n",
    "\n",
    "high_corrs"
   ]
  },
  {
   "cell_type": "markdown",
   "metadata": {},
   "source": [
    "The code above returns all of the variables apart from residual sugar (quality was removed earlier). They all had a correlation value above 0.05. Why did we choose the value 0.05? \n",
    "\n",
    "From [Minitab Express](https://support.minitab.com/en-us/minitab-express/1/help-and-how-to/modeling-statistics/regression/how-to/correlation/interpret-the-results/#:~:text=Usually%2C%20a%20significance%20level%20(denoted,is%20significantly%20different%20from%200.): \n",
    "\n",
    "<i>\"Usually, a significance level (denoted as α or alpha) of 0.05 works well. An α of 0.05 indicates that the risk of concluding that a correlation exists—when, actually, no correlation exists—is 5%. The p-value tells you whether the correlation coefficient is significantly different from 0.</i>\n",
    "\n",
    "<b>P-value ≤ α: The correlation is statistically significant</b>\n",
    "\n",
    "If the p-value is less than or equal to the significance level, then you can conclude that the correlation is different from 0.\n",
    "\n",
    "<b>P-value > α: The correlation is not statistically significant</b>\n",
    "\n",
    "If the p-value is greater than the significance level, then you cannot conclude that the correlation is different from 0.\""
   ]
  },
  {
   "cell_type": "markdown",
   "metadata": {},
   "source": [
    "<br>\n",
    "\n",
    "\n",
    "### Visualising Two Dimensions\n",
    "***"
   ]
  },
  {
   "cell_type": "markdown",
   "metadata": {},
   "source": [
    "#### Bar Plot"
   ]
  },
  {
   "cell_type": "code",
   "execution_count": 584,
   "metadata": {},
   "outputs": [
    {
     "data": {
      "image/png": "[encoded data removed]",
      "text/plain": [
       "<Figure size 1296x432 with 2 Axes>"
      ]
     },
     "metadata": {},
     "output_type": "display_data"
    }
   ],
   "source": [
    "# Create figure & axes & set figure size.\n",
    "fig, ax = plt.subplots(1, 2, figsize=(18,6))\n",
    "\n",
    "# Barchart with alcohol & quality.\n",
    "sns.barplot(y = \"alcohol\", x = \"quality\", data = df, ax=ax[0])\n",
    "sns.barplot(y = \"volatile acidity\", x = \"quality\", data = df, ax=ax[1])\n",
    "\n",
    "# Set plot titles.\n",
    "ax[0].set_title(\"Alcohol & Quality\")\n",
    "ax[1].set_title(\"Volatile Acidity & Quality\")\n",
    "\n",
    "plt.show();"
   ]
  },
  {
   "cell_type": "markdown",
   "metadata": {},
   "source": [
    "This plot confirms the correlations we found in our analysis above. There is a <b>positive correlation between alcohol and quality</b> and a <b>negative correlation between volatile acidity and quality</b>. "
   ]
  },
  {
   "cell_type": "markdown",
   "metadata": {},
   "source": [
    "<br>\n",
    "\n",
    "#### Scatter plot with regression line"
   ]
  },
  {
   "cell_type": "code",
   "execution_count": 501,
   "metadata": {},
   "outputs": [
    {
     "data": {
      "image/png": "[encoded data removed]",
      "text/plain": [
       "<Figure size 1440x720 with 2 Axes>"
      ]
     },
     "metadata": {},
     "output_type": "display_data"
    }
   ],
   "source": [
    "fig, ax = plt.subplots(1, 2, figsize=(20, 10))\n",
    "\n",
    "# Plot with alcohol & quality.\n",
    "sns.regplot(ax=ax[0], x=\"alcohol\", y=\"quality\", color='blue', data=df, \n",
    "           fit_reg=True)\n",
    "ax[0].set_title(\"Quality & Alcohol\")\n",
    "\n",
    "# Plot volatile acidity and quality.\n",
    "ax[1].set_title(\"Volatile Acidity & Alcohol\")\n",
    "sns.regplot(ax=ax[1], x=\"volatile acidity\", y=\"quality\", color='green', data=df, \n",
    "           fit_reg=True);"
   ]
  },
  {
   "cell_type": "markdown",
   "metadata": {},
   "source": [
    "The plots above visually depicts the results of the correlations map: \n",
    "- <b>alcohol & quality are positively correlated</b> - as alcohol content increases the quality score also increases\n",
    "- <b>volatile acidity are negatively correlated</b> - as volatile acidity increases the quality score decreases"
   ]
  },
  {
   "cell_type": "markdown",
   "metadata": {},
   "source": [
    "<br>\n",
    "\n",
    "#### Means of properties grouped by quality\n",
    "\n",
    "We can use Pandas [groupby()](https://pandas.pydata.org/docs/reference/api/pandas.DataFrame.groupby.html) function coupled with the `mean()` function to get the means of each variable grouped by quality."
   ]
  },
  {
   "cell_type": "code",
   "execution_count": 502,
   "metadata": {},
   "outputs": [],
   "source": [
    "# Group by quality. \n",
    "group = df.groupby('quality')"
   ]
  },
  {
   "cell_type": "markdown",
   "metadata": {},
   "source": [
    "This pivot tables gives us a quick summary of the mean values of the properties associated with the corresponding quality scores."
   ]
  },
  {
   "cell_type": "code",
   "execution_count": 503,
   "metadata": {},
   "outputs": [
    {
     "data": {
      "text/html": [
       "<div>\n",
       "<style scoped>\n",
       "    .dataframe tbody tr th:only-of-type {\n",
       "        vertical-align: middle;\n",
       "    }\n",
       "\n",
       "    .dataframe tbody tr th {\n",
       "        vertical-align: top;\n",
       "    }\n",
       "\n",
       "    .dataframe thead th {\n",
       "        text-align: right;\n",
       "    }\n",
       "</style>\n",
       "<table border=\"1\" class=\"dataframe\">\n",
       "  <thead>\n",
       "    <tr style=\"text-align: right;\">\n",
       "      <th></th>\n",
       "      <th>fixed acidity</th>\n",
       "      <th>volatile acidity</th>\n",
       "      <th>citric acid</th>\n",
       "      <th>residual sugar</th>\n",
       "      <th>chlorides</th>\n",
       "      <th>free sulfur dioxide</th>\n",
       "      <th>total sulfur dioxide</th>\n",
       "      <th>density</th>\n",
       "      <th>pH</th>\n",
       "      <th>sulphates</th>\n",
       "      <th>alcohol</th>\n",
       "    </tr>\n",
       "    <tr>\n",
       "      <th>quality</th>\n",
       "      <th></th>\n",
       "      <th></th>\n",
       "      <th></th>\n",
       "      <th></th>\n",
       "      <th></th>\n",
       "      <th></th>\n",
       "      <th></th>\n",
       "      <th></th>\n",
       "      <th></th>\n",
       "      <th></th>\n",
       "      <th></th>\n",
       "    </tr>\n",
       "  </thead>\n",
       "  <tbody>\n",
       "    <tr>\n",
       "      <th>3</th>\n",
       "      <td>8.360000</td>\n",
       "      <td>0.884500</td>\n",
       "      <td>0.171000</td>\n",
       "      <td>2.635000</td>\n",
       "      <td>0.122500</td>\n",
       "      <td>11.000000</td>\n",
       "      <td>24.900000</td>\n",
       "      <td>0.997464</td>\n",
       "      <td>3.398000</td>\n",
       "      <td>0.570000</td>\n",
       "      <td>9.955000</td>\n",
       "    </tr>\n",
       "    <tr>\n",
       "      <th>4</th>\n",
       "      <td>7.779245</td>\n",
       "      <td>0.693962</td>\n",
       "      <td>0.174151</td>\n",
       "      <td>2.694340</td>\n",
       "      <td>0.090679</td>\n",
       "      <td>12.264151</td>\n",
       "      <td>36.245283</td>\n",
       "      <td>0.996542</td>\n",
       "      <td>3.381509</td>\n",
       "      <td>0.596415</td>\n",
       "      <td>10.265094</td>\n",
       "    </tr>\n",
       "    <tr>\n",
       "      <th>5</th>\n",
       "      <td>8.167254</td>\n",
       "      <td>0.577041</td>\n",
       "      <td>0.243686</td>\n",
       "      <td>2.528855</td>\n",
       "      <td>0.092736</td>\n",
       "      <td>16.983847</td>\n",
       "      <td>56.513950</td>\n",
       "      <td>0.997104</td>\n",
       "      <td>3.304949</td>\n",
       "      <td>0.620969</td>\n",
       "      <td>9.899706</td>\n",
       "    </tr>\n",
       "    <tr>\n",
       "      <th>6</th>\n",
       "      <td>8.347179</td>\n",
       "      <td>0.497484</td>\n",
       "      <td>0.273824</td>\n",
       "      <td>2.477194</td>\n",
       "      <td>0.084956</td>\n",
       "      <td>15.711599</td>\n",
       "      <td>40.869906</td>\n",
       "      <td>0.996615</td>\n",
       "      <td>3.318072</td>\n",
       "      <td>0.675329</td>\n",
       "      <td>10.629519</td>\n",
       "    </tr>\n",
       "    <tr>\n",
       "      <th>7</th>\n",
       "      <td>8.872362</td>\n",
       "      <td>0.403920</td>\n",
       "      <td>0.375176</td>\n",
       "      <td>2.720603</td>\n",
       "      <td>0.076588</td>\n",
       "      <td>14.045226</td>\n",
       "      <td>35.020101</td>\n",
       "      <td>0.996104</td>\n",
       "      <td>3.290754</td>\n",
       "      <td>0.741256</td>\n",
       "      <td>11.465913</td>\n",
       "    </tr>\n",
       "    <tr>\n",
       "      <th>8</th>\n",
       "      <td>8.566667</td>\n",
       "      <td>0.423333</td>\n",
       "      <td>0.391111</td>\n",
       "      <td>2.577778</td>\n",
       "      <td>0.068444</td>\n",
       "      <td>13.277778</td>\n",
       "      <td>33.444444</td>\n",
       "      <td>0.995212</td>\n",
       "      <td>3.267222</td>\n",
       "      <td>0.767778</td>\n",
       "      <td>12.094444</td>\n",
       "    </tr>\n",
       "  </tbody>\n",
       "</table>\n",
       "</div>"
      ],
      "text/plain": [
       "         fixed acidity  volatile acidity  citric acid  residual sugar  \\\n",
       "quality                                                                 \n",
       "3             8.360000          0.884500     0.171000        2.635000   \n",
       "4             7.779245          0.693962     0.174151        2.694340   \n",
       "5             8.167254          0.577041     0.243686        2.528855   \n",
       "6             8.347179          0.497484     0.273824        2.477194   \n",
       "7             8.872362          0.403920     0.375176        2.720603   \n",
       "8             8.566667          0.423333     0.391111        2.577778   \n",
       "\n",
       "         chlorides  free sulfur dioxide  total sulfur dioxide   density  \\\n",
       "quality                                                                   \n",
       "3         0.122500            11.000000             24.900000  0.997464   \n",
       "4         0.090679            12.264151             36.245283  0.996542   \n",
       "5         0.092736            16.983847             56.513950  0.997104   \n",
       "6         0.084956            15.711599             40.869906  0.996615   \n",
       "7         0.076588            14.045226             35.020101  0.996104   \n",
       "8         0.068444            13.277778             33.444444  0.995212   \n",
       "\n",
       "               pH  sulphates    alcohol  \n",
       "quality                                  \n",
       "3        3.398000   0.570000   9.955000  \n",
       "4        3.381509   0.596415  10.265094  \n",
       "5        3.304949   0.620969   9.899706  \n",
       "6        3.318072   0.675329  10.629519  \n",
       "7        3.290754   0.741256  11.465913  \n",
       "8        3.267222   0.767778  12.094444  "
      ]
     },
     "execution_count": 503,
     "metadata": {},
     "output_type": "execute_result"
    }
   ],
   "source": [
    "# Pivot tables.\n",
    "group.mean()"
   ]
  },
  {
   "cell_type": "markdown",
   "metadata": {},
   "source": [
    "<br>\n",
    "\n",
    "#### Violin & Box Plots\n",
    "\n",
    "We will create bar & violin plots to visualise the spread of data across all variables. \n",
    "\n",
    "[Seaborn box plot documentation](https://seaborn.pydata.org/generated/seaborn.violinplot.html)"
   ]
  },
  {
   "cell_type": "code",
   "execution_count": 504,
   "metadata": {},
   "outputs": [],
   "source": [
    "# Create a list of variable names.\n",
    "col_names = list(df.columns)"
   ]
  },
  {
   "cell_type": "code",
   "execution_count": 505,
   "metadata": {},
   "outputs": [
    {
     "data": {
      "image/png": "[encoded data removed]",
      "text/plain": [
       "<Figure size 1440x432 with 12 Axes>"
      ]
     },
     "metadata": {},
     "output_type": "display_data"
    }
   ],
   "source": [
    "# Code adapted from: https://matplotlib.org/stable/tutorials/intermediate/arranging_axes.html\n",
    "\n",
    "# Create box plot.\n",
    "fig = plt.figure(figsize = (20, 6)) # figsize = width, height in inches.\n",
    "gs = fig.add_gridspec(1, 12) # A grid for which we can place the data.\n",
    "\n",
    "count = 0\n",
    "\n",
    "# Iterates thorugh variables, creating a box plot for each and placing on grid.\n",
    "for var in col_names:\n",
    "    ax = fig.add_subplot(gs[0, count])\n",
    "    sns.boxplot(data=df[var])\n",
    "    ax.set_xlabel(var)\n",
    "    count += 1\n",
    "\n",
    "# Fit plots in figure area.\n",
    "fig.tight_layout()\n",
    "\n",
    "plt.show()"
   ]
  },
  {
   "cell_type": "code",
   "execution_count": 506,
   "metadata": {},
   "outputs": [
    {
     "data": {
      "image/png": "[encoded data removed]",
      "text/plain": [
       "<Figure size 1440x432 with 12 Axes>"
      ]
     },
     "metadata": {},
     "output_type": "display_data"
    }
   ],
   "source": [
    "# Create violin Plot\n",
    "fig = plt.figure(figsize = (20, 6)) # figsize = width, height in inches.\n",
    "gs = fig.add_gridspec(1, 12) # A grid for which we can place the data.\n",
    "\n",
    "count = 0\n",
    "\n",
    "# Iterates thorugh variables, creating a violin plot for each and placing on grid.\n",
    "for var in col_names:\n",
    "    ax = fig.add_subplot(gs[0, count])\n",
    "    sns.violinplot(data=df[var])\n",
    "    ax.set_xlabel(var)\n",
    "    count += 1\n",
    "\n",
    "# Fit plots in figure area.\n",
    "fig.tight_layout()\n",
    "\n",
    "plt.show()"
   ]
  },
  {
   "cell_type": "markdown",
   "metadata": {},
   "source": [
    "<b>Observations:</b>\n",
    "\n",
    "- <b>Quality</b>: most values are between 5 and 7 while there are no values in categories 1, 2 and 10 and few values in categories 3, 4 and 9. \n",
    "- Some variables have <b>outliers</b>: fixed acidity, volatile acidity and citric acid. However, if those outliers were removed their distribution would be quite symmetrical. \n",
    "\n",
    "- <b>Residual</b> sugar has a <b>very skewed</b> distribution. Even if the outliers were removed, it is unlikely the spread would be symmetrical.\n",
    "\n",
    "- Many of the <b>outliers are large</b>. \n",
    "\n",
    "- <b>Alcohol is asymmetrically distributed</b>, although there are <b>no outliers</b>. "
   ]
  },
  {
   "cell_type": "markdown",
   "metadata": {},
   "source": [
    "***\n",
    "# <center>3. Machine Learning</center>\n",
    "***"
   ]
  },
  {
   "cell_type": "markdown",
   "metadata": {},
   "source": [
    "### Train and Test Split"
   ]
  },
  {
   "cell_type": "markdown",
   "metadata": {},
   "source": [
    "\n",
    "This section is dedicated splitting the data into a training set and test set in preparation for fitting and checking the model.  \n",
    "\n",
    "##### <b>Why is it important to split the data?</b>\n",
    "\n",
    "<i>From a [Real Python tutorial](https://realpython.com/train-test-split-python-data/):</i>\n",
    "    \n",
    "\"Supervised machine learning is about creating models that precisely map the given inputs (independent variables, or predictors) to the given outputs (dependent variables, or responses).\"\n",
    "\n",
    "As it is essential to carry out an <u>unbiased assessment</u> on the success of the model's predictions, we cannot use the same data we used to train the model - the data must be unseen by the model. \n",
    "\n",
    "This is why we <b>split the data in two</b>:\n",
    "\n",
    "- <b>Training data</b> : used to train the model\n",
    "- <b>Test data</b> : used to test the model\n",
    "\n",
    "<br>\n",
    "\n",
    "### train_test_split\n",
    "***\n",
    "\n",
    "The data will be split using the `train_test_split()` [function](https://scikit-learn.org/stable/modules/generated/sklearn.model_selection.train_test_split.html) from Scikit Learn's model_selection library.\n",
    "\n",
    "The split will be <b>80/20 (train/test)</b>. This is specified by using the `test_size` parameter and passing a floating point number to specify the size of the test data."
   ]
  },
  {
   "cell_type": "code",
   "execution_count": 507,
   "metadata": {},
   "outputs": [],
   "source": [
    "# Splits the dataframe 80/20 (train/test). \n",
    "train, test = mod.train_test_split(df, test_size=0.2)"
   ]
  },
  {
   "cell_type": "markdown",
   "metadata": {},
   "source": [
    "<br>\n",
    "\n",
    "Let's assess how the data has been split by previewing the training data. "
   ]
  },
  {
   "cell_type": "code",
   "execution_count": 508,
   "metadata": {},
   "outputs": [
    {
     "data": {
      "text/html": [
       "<div>\n",
       "<style scoped>\n",
       "    .dataframe tbody tr th:only-of-type {\n",
       "        vertical-align: middle;\n",
       "    }\n",
       "\n",
       "    .dataframe tbody tr th {\n",
       "        vertical-align: top;\n",
       "    }\n",
       "\n",
       "    .dataframe thead th {\n",
       "        text-align: right;\n",
       "    }\n",
       "</style>\n",
       "<table border=\"1\" class=\"dataframe\">\n",
       "  <thead>\n",
       "    <tr style=\"text-align: right;\">\n",
       "      <th></th>\n",
       "      <th>fixed acidity</th>\n",
       "      <th>volatile acidity</th>\n",
       "      <th>citric acid</th>\n",
       "      <th>residual sugar</th>\n",
       "      <th>chlorides</th>\n",
       "      <th>free sulfur dioxide</th>\n",
       "      <th>total sulfur dioxide</th>\n",
       "      <th>density</th>\n",
       "      <th>pH</th>\n",
       "      <th>sulphates</th>\n",
       "      <th>alcohol</th>\n",
       "      <th>quality</th>\n",
       "    </tr>\n",
       "  </thead>\n",
       "  <tbody>\n",
       "    <tr>\n",
       "      <th>1403</th>\n",
       "      <td>7.2</td>\n",
       "      <td>0.33</td>\n",
       "      <td>0.33</td>\n",
       "      <td>1.7</td>\n",
       "      <td>0.061</td>\n",
       "      <td>3.0</td>\n",
       "      <td>13.0</td>\n",
       "      <td>0.99600</td>\n",
       "      <td>3.23</td>\n",
       "      <td>1.10</td>\n",
       "      <td>10.0</td>\n",
       "      <td>8</td>\n",
       "    </tr>\n",
       "    <tr>\n",
       "      <th>183</th>\n",
       "      <td>6.8</td>\n",
       "      <td>0.61</td>\n",
       "      <td>0.20</td>\n",
       "      <td>1.8</td>\n",
       "      <td>0.077</td>\n",
       "      <td>11.0</td>\n",
       "      <td>65.0</td>\n",
       "      <td>0.99710</td>\n",
       "      <td>3.54</td>\n",
       "      <td>0.58</td>\n",
       "      <td>9.3</td>\n",
       "      <td>5</td>\n",
       "    </tr>\n",
       "    <tr>\n",
       "      <th>1102</th>\n",
       "      <td>6.1</td>\n",
       "      <td>0.48</td>\n",
       "      <td>0.09</td>\n",
       "      <td>1.7</td>\n",
       "      <td>0.078</td>\n",
       "      <td>18.0</td>\n",
       "      <td>30.0</td>\n",
       "      <td>0.99402</td>\n",
       "      <td>3.45</td>\n",
       "      <td>0.54</td>\n",
       "      <td>11.2</td>\n",
       "      <td>6</td>\n",
       "    </tr>\n",
       "    <tr>\n",
       "      <th>1217</th>\n",
       "      <td>8.2</td>\n",
       "      <td>0.34</td>\n",
       "      <td>0.37</td>\n",
       "      <td>1.9</td>\n",
       "      <td>0.057</td>\n",
       "      <td>43.0</td>\n",
       "      <td>74.0</td>\n",
       "      <td>0.99408</td>\n",
       "      <td>3.23</td>\n",
       "      <td>0.81</td>\n",
       "      <td>12.0</td>\n",
       "      <td>6</td>\n",
       "    </tr>\n",
       "    <tr>\n",
       "      <th>1267</th>\n",
       "      <td>10.4</td>\n",
       "      <td>0.43</td>\n",
       "      <td>0.50</td>\n",
       "      <td>2.3</td>\n",
       "      <td>0.068</td>\n",
       "      <td>13.0</td>\n",
       "      <td>19.0</td>\n",
       "      <td>0.99600</td>\n",
       "      <td>3.10</td>\n",
       "      <td>0.87</td>\n",
       "      <td>11.4</td>\n",
       "      <td>6</td>\n",
       "    </tr>\n",
       "  </tbody>\n",
       "</table>\n",
       "</div>"
      ],
      "text/plain": [
       "      fixed acidity  volatile acidity  citric acid  residual sugar  chlorides  \\\n",
       "1403            7.2              0.33         0.33             1.7      0.061   \n",
       "183             6.8              0.61         0.20             1.8      0.077   \n",
       "1102            6.1              0.48         0.09             1.7      0.078   \n",
       "1217            8.2              0.34         0.37             1.9      0.057   \n",
       "1267           10.4              0.43         0.50             2.3      0.068   \n",
       "\n",
       "      free sulfur dioxide  total sulfur dioxide  density    pH  sulphates  \\\n",
       "1403                  3.0                  13.0  0.99600  3.23       1.10   \n",
       "183                  11.0                  65.0  0.99710  3.54       0.58   \n",
       "1102                 18.0                  30.0  0.99402  3.45       0.54   \n",
       "1217                 43.0                  74.0  0.99408  3.23       0.81   \n",
       "1267                 13.0                  19.0  0.99600  3.10       0.87   \n",
       "\n",
       "      alcohol  quality  \n",
       "1403     10.0        8  \n",
       "183       9.3        5  \n",
       "1102     11.2        6  \n",
       "1217     12.0        6  \n",
       "1267     11.4        6  "
      ]
     },
     "execution_count": 508,
     "metadata": {},
     "output_type": "execute_result"
    }
   ],
   "source": [
    "# Views some of the training data.\n",
    "train.head()"
   ]
  },
  {
   "cell_type": "code",
   "execution_count": 509,
   "metadata": {},
   "outputs": [
    {
     "data": {
      "text/plain": [
       "Int64Index([1403,  183, 1102, 1217, 1267,  505,  662, 1239,  218, 1040,\n",
       "            ...\n",
       "              66, 1499,  600,  156, 1397,  796, 1494,  637,  329,    9],\n",
       "           dtype='int64', length=1279)"
      ]
     },
     "execution_count": 509,
     "metadata": {},
     "output_type": "execute_result"
    }
   ],
   "source": [
    "# View indices of train array.\n",
    "train.index"
   ]
  },
  {
   "cell_type": "code",
   "execution_count": 510,
   "metadata": {},
   "outputs": [
    {
     "data": {
      "text/plain": [
       "1279"
      ]
     },
     "execution_count": 510,
     "metadata": {},
     "output_type": "execute_result"
    }
   ],
   "source": [
    "# Check size of training data.\n",
    "train.index.size"
   ]
  },
  {
   "cell_type": "markdown",
   "metadata": {},
   "source": [
    "<br>\n",
    "\n",
    "Now, let's take a look at the test data. "
   ]
  },
  {
   "cell_type": "code",
   "execution_count": 511,
   "metadata": {},
   "outputs": [
    {
     "data": {
      "text/html": [
       "<div>\n",
       "<style scoped>\n",
       "    .dataframe tbody tr th:only-of-type {\n",
       "        vertical-align: middle;\n",
       "    }\n",
       "\n",
       "    .dataframe tbody tr th {\n",
       "        vertical-align: top;\n",
       "    }\n",
       "\n",
       "    .dataframe thead th {\n",
       "        text-align: right;\n",
       "    }\n",
       "</style>\n",
       "<table border=\"1\" class=\"dataframe\">\n",
       "  <thead>\n",
       "    <tr style=\"text-align: right;\">\n",
       "      <th></th>\n",
       "      <th>fixed acidity</th>\n",
       "      <th>volatile acidity</th>\n",
       "      <th>citric acid</th>\n",
       "      <th>residual sugar</th>\n",
       "      <th>chlorides</th>\n",
       "      <th>free sulfur dioxide</th>\n",
       "      <th>total sulfur dioxide</th>\n",
       "      <th>density</th>\n",
       "      <th>pH</th>\n",
       "      <th>sulphates</th>\n",
       "      <th>alcohol</th>\n",
       "      <th>quality</th>\n",
       "    </tr>\n",
       "  </thead>\n",
       "  <tbody>\n",
       "    <tr>\n",
       "      <th>1235</th>\n",
       "      <td>6.0</td>\n",
       "      <td>0.330</td>\n",
       "      <td>0.32</td>\n",
       "      <td>12.9</td>\n",
       "      <td>0.054</td>\n",
       "      <td>6.0</td>\n",
       "      <td>113.0</td>\n",
       "      <td>0.99572</td>\n",
       "      <td>3.30</td>\n",
       "      <td>0.56</td>\n",
       "      <td>11.5</td>\n",
       "      <td>4</td>\n",
       "    </tr>\n",
       "    <tr>\n",
       "      <th>715</th>\n",
       "      <td>7.2</td>\n",
       "      <td>0.490</td>\n",
       "      <td>0.18</td>\n",
       "      <td>2.7</td>\n",
       "      <td>0.069</td>\n",
       "      <td>13.0</td>\n",
       "      <td>34.0</td>\n",
       "      <td>0.99670</td>\n",
       "      <td>3.29</td>\n",
       "      <td>0.48</td>\n",
       "      <td>9.2</td>\n",
       "      <td>6</td>\n",
       "    </tr>\n",
       "    <tr>\n",
       "      <th>835</th>\n",
       "      <td>7.6</td>\n",
       "      <td>0.665</td>\n",
       "      <td>0.10</td>\n",
       "      <td>1.5</td>\n",
       "      <td>0.066</td>\n",
       "      <td>27.0</td>\n",
       "      <td>55.0</td>\n",
       "      <td>0.99655</td>\n",
       "      <td>3.39</td>\n",
       "      <td>0.51</td>\n",
       "      <td>9.3</td>\n",
       "      <td>5</td>\n",
       "    </tr>\n",
       "    <tr>\n",
       "      <th>678</th>\n",
       "      <td>8.3</td>\n",
       "      <td>0.780</td>\n",
       "      <td>0.10</td>\n",
       "      <td>2.6</td>\n",
       "      <td>0.081</td>\n",
       "      <td>45.0</td>\n",
       "      <td>87.0</td>\n",
       "      <td>0.99830</td>\n",
       "      <td>3.48</td>\n",
       "      <td>0.53</td>\n",
       "      <td>10.0</td>\n",
       "      <td>5</td>\n",
       "    </tr>\n",
       "    <tr>\n",
       "      <th>1108</th>\n",
       "      <td>8.1</td>\n",
       "      <td>0.780</td>\n",
       "      <td>0.10</td>\n",
       "      <td>3.3</td>\n",
       "      <td>0.090</td>\n",
       "      <td>4.0</td>\n",
       "      <td>13.0</td>\n",
       "      <td>0.99855</td>\n",
       "      <td>3.36</td>\n",
       "      <td>0.49</td>\n",
       "      <td>9.5</td>\n",
       "      <td>5</td>\n",
       "    </tr>\n",
       "  </tbody>\n",
       "</table>\n",
       "</div>"
      ],
      "text/plain": [
       "      fixed acidity  volatile acidity  citric acid  residual sugar  chlorides  \\\n",
       "1235            6.0             0.330         0.32            12.9      0.054   \n",
       "715             7.2             0.490         0.18             2.7      0.069   \n",
       "835             7.6             0.665         0.10             1.5      0.066   \n",
       "678             8.3             0.780         0.10             2.6      0.081   \n",
       "1108            8.1             0.780         0.10             3.3      0.090   \n",
       "\n",
       "      free sulfur dioxide  total sulfur dioxide  density    pH  sulphates  \\\n",
       "1235                  6.0                 113.0  0.99572  3.30       0.56   \n",
       "715                  13.0                  34.0  0.99670  3.29       0.48   \n",
       "835                  27.0                  55.0  0.99655  3.39       0.51   \n",
       "678                  45.0                  87.0  0.99830  3.48       0.53   \n",
       "1108                  4.0                  13.0  0.99855  3.36       0.49   \n",
       "\n",
       "      alcohol  quality  \n",
       "1235     11.5        4  \n",
       "715       9.2        6  \n",
       "835       9.3        5  \n",
       "678      10.0        5  \n",
       "1108      9.5        5  "
      ]
     },
     "execution_count": 511,
     "metadata": {},
     "output_type": "execute_result"
    }
   ],
   "source": [
    "# Shows some test data.\n",
    "test.head()"
   ]
  },
  {
   "cell_type": "code",
   "execution_count": 512,
   "metadata": {},
   "outputs": [
    {
     "data": {
      "text/plain": [
       "320"
      ]
     },
     "execution_count": 512,
     "metadata": {},
     "output_type": "execute_result"
    }
   ],
   "source": [
    "# Size of test data set.\n",
    "test.index.size"
   ]
  },
  {
   "cell_type": "markdown",
   "metadata": {},
   "source": [
    "The data was split 80/20, as desired.\n",
    "\n",
    "All looks good so far! "
   ]
  },
  {
   "cell_type": "markdown",
   "metadata": {},
   "source": [
    "<br>\n",
    "\n",
    "## Plot the Test & Train\n",
    "\n",
    "***"
   ]
  },
  {
   "cell_type": "markdown",
   "metadata": {},
   "source": [
    "Ideally, we want the data to be segregated evenly throughout the data set. \n",
    "\n",
    "To check this, the following block of code was used to create a plot which depicts exactly how the test/train split the data. "
   ]
  },
  {
   "cell_type": "code",
   "execution_count": 513,
   "metadata": {},
   "outputs": [
    {
     "data": {
      "image/png": "[encoded data removed]",
      "text/plain": [
       "<Figure size 1296x576 with 1 Axes>"
      ]
     },
     "metadata": {},
     "output_type": "display_data"
    }
   ],
   "source": [
    "# Create figure & axis.\n",
    "fig, ax = plt.subplots(figsize=(18, 8))\n",
    "\n",
    "# Scatter plots for training data.\n",
    "ax.scatter(train.index, train[\"alcohol\"], marker='o', color=\"yellow\", label='Train data')\n",
    "\n",
    "# Scatter plot for testing data.\n",
    "ax.scatter(test.index, test[\"alcohol\"], marker='x', label='Test data')\n",
    "\n",
    "# Plot title.\n",
    "ax.set_title('Train & Test Split', fontsize=20)\n",
    "\n",
    "# X-axis label.\n",
    "ax.set_xlabel('Index')\n",
    "\n",
    "# Show the legend.\n",
    "ax.legend();"
   ]
  },
  {
   "cell_type": "markdown",
   "metadata": {},
   "source": [
    "The <b>test data was selected evenly</b> across the dataset with the test_train_split function. "
   ]
  },
  {
   "cell_type": "markdown",
   "metadata": {},
   "source": [
    "<br>\n",
    "    \n",
    "#### Random row check to ensure data integrity\n",
    "***\n",
    "\n",
    "There are <b>two ways</b> of accessing rows in the data set:\n",
    "\n",
    "- iloc : by the index position\n",
    "- loc : by its label\n",
    "\n",
    "The following will use the index position to access row data and this will be compared to the original data set to ensure the data has not been  after the processing thus far. "
   ]
  },
  {
   "cell_type": "code",
   "execution_count": 514,
   "metadata": {},
   "outputs": [
    {
     "data": {
      "text/plain": [
       "fixed acidity            6.400\n",
       "volatile acidity         0.570\n",
       "citric acid              0.020\n",
       "residual sugar           1.800\n",
       "chlorides                0.067\n",
       "free sulfur dioxide      4.000\n",
       "total sulfur dioxide    11.000\n",
       "density                  0.997\n",
       "pH                       3.460\n",
       "sulphates                0.680\n",
       "alcohol                  9.500\n",
       "quality                  5.000\n",
       "Name: 727, dtype: float64"
      ]
     },
     "execution_count": 514,
     "metadata": {},
     "output_type": "execute_result"
    }
   ],
   "source": [
    "# Check that line 727 matches original data. \n",
    "df.iloc[727]"
   ]
  },
  {
   "cell_type": "markdown",
   "metadata": {},
   "source": [
    "Because python uses 0-based indexing, the corresponding row in the original file will be one integer higher. \n",
    "\n",
    "The last check was completed on the 12/1/22 and it was <b>confirmed that the data corrresponds to the original</b>. "
   ]
  },
  {
   "cell_type": "markdown",
   "metadata": {},
   "source": [
    "<br>\n",
    "\n",
    "## Two Dimensions: Logistic Regression\n",
    "***\n",
    "\n",
    "https://scikit-learn.org/stable/modules/generated/sklearn.linear_model.LogisticRegression.html"
   ]
  },
  {
   "cell_type": "code",
   "execution_count": 558,
   "metadata": {},
   "outputs": [],
   "source": [
    "# Specify inputs & outputs for training model.\n",
    "inputs = train[col_names]\n",
    "outputs = train['quality']"
   ]
  },
  {
   "cell_type": "code",
   "execution_count": 559,
   "metadata": {},
   "outputs": [
    {
     "data": {
      "text/html": [
       "<div>\n",
       "<style scoped>\n",
       "    .dataframe tbody tr th:only-of-type {\n",
       "        vertical-align: middle;\n",
       "    }\n",
       "\n",
       "    .dataframe tbody tr th {\n",
       "        vertical-align: top;\n",
       "    }\n",
       "\n",
       "    .dataframe thead th {\n",
       "        text-align: right;\n",
       "    }\n",
       "</style>\n",
       "<table border=\"1\" class=\"dataframe\">\n",
       "  <thead>\n",
       "    <tr style=\"text-align: right;\">\n",
       "      <th></th>\n",
       "      <th>fixed acidity</th>\n",
       "      <th>volatile acidity</th>\n",
       "      <th>citric acid</th>\n",
       "      <th>residual sugar</th>\n",
       "      <th>chlorides</th>\n",
       "      <th>free sulfur dioxide</th>\n",
       "      <th>total sulfur dioxide</th>\n",
       "      <th>density</th>\n",
       "      <th>pH</th>\n",
       "      <th>sulphates</th>\n",
       "      <th>alcohol</th>\n",
       "      <th>quality</th>\n",
       "    </tr>\n",
       "  </thead>\n",
       "  <tbody>\n",
       "    <tr>\n",
       "      <th>1491</th>\n",
       "      <td>5.6</td>\n",
       "      <td>0.540</td>\n",
       "      <td>0.04</td>\n",
       "      <td>1.7</td>\n",
       "      <td>0.049</td>\n",
       "      <td>5.0</td>\n",
       "      <td>13.0</td>\n",
       "      <td>0.99420</td>\n",
       "      <td>3.72</td>\n",
       "      <td>0.58</td>\n",
       "      <td>11.4</td>\n",
       "      <td>5</td>\n",
       "    </tr>\n",
       "    <tr>\n",
       "      <th>1092</th>\n",
       "      <td>7.0</td>\n",
       "      <td>0.540</td>\n",
       "      <td>0.09</td>\n",
       "      <td>2.0</td>\n",
       "      <td>0.081</td>\n",
       "      <td>10.0</td>\n",
       "      <td>16.0</td>\n",
       "      <td>0.99479</td>\n",
       "      <td>3.43</td>\n",
       "      <td>0.59</td>\n",
       "      <td>11.5</td>\n",
       "      <td>6</td>\n",
       "    </tr>\n",
       "    <tr>\n",
       "      <th>802</th>\n",
       "      <td>5.1</td>\n",
       "      <td>0.585</td>\n",
       "      <td>0.00</td>\n",
       "      <td>1.7</td>\n",
       "      <td>0.044</td>\n",
       "      <td>14.0</td>\n",
       "      <td>86.0</td>\n",
       "      <td>0.99264</td>\n",
       "      <td>3.56</td>\n",
       "      <td>0.94</td>\n",
       "      <td>12.9</td>\n",
       "      <td>7</td>\n",
       "    </tr>\n",
       "    <tr>\n",
       "      <th>1139</th>\n",
       "      <td>8.2</td>\n",
       "      <td>0.510</td>\n",
       "      <td>0.24</td>\n",
       "      <td>2.0</td>\n",
       "      <td>0.079</td>\n",
       "      <td>16.0</td>\n",
       "      <td>86.0</td>\n",
       "      <td>0.99764</td>\n",
       "      <td>3.34</td>\n",
       "      <td>0.64</td>\n",
       "      <td>9.5</td>\n",
       "      <td>6</td>\n",
       "    </tr>\n",
       "    <tr>\n",
       "      <th>41</th>\n",
       "      <td>8.8</td>\n",
       "      <td>0.610</td>\n",
       "      <td>0.30</td>\n",
       "      <td>2.8</td>\n",
       "      <td>0.088</td>\n",
       "      <td>17.0</td>\n",
       "      <td>46.0</td>\n",
       "      <td>0.99760</td>\n",
       "      <td>3.26</td>\n",
       "      <td>0.51</td>\n",
       "      <td>9.3</td>\n",
       "      <td>4</td>\n",
       "    </tr>\n",
       "  </tbody>\n",
       "</table>\n",
       "</div>"
      ],
      "text/plain": [
       "      fixed acidity  volatile acidity  citric acid  residual sugar  chlorides  \\\n",
       "1491            5.6             0.540         0.04             1.7      0.049   \n",
       "1092            7.0             0.540         0.09             2.0      0.081   \n",
       "802             5.1             0.585         0.00             1.7      0.044   \n",
       "1139            8.2             0.510         0.24             2.0      0.079   \n",
       "41              8.8             0.610         0.30             2.8      0.088   \n",
       "\n",
       "      free sulfur dioxide  total sulfur dioxide  density    pH  sulphates  \\\n",
       "1491                  5.0                  13.0  0.99420  3.72       0.58   \n",
       "1092                 10.0                  16.0  0.99479  3.43       0.59   \n",
       "802                  14.0                  86.0  0.99264  3.56       0.94   \n",
       "1139                 16.0                  86.0  0.99764  3.34       0.64   \n",
       "41                   17.0                  46.0  0.99760  3.26       0.51   \n",
       "\n",
       "      alcohol  quality  \n",
       "1491     11.4        5  \n",
       "1092     11.5        6  \n",
       "802      12.9        7  \n",
       "1139      9.5        6  \n",
       "41        9.3        4  "
      ]
     },
     "execution_count": 559,
     "metadata": {},
     "output_type": "execute_result"
    }
   ],
   "source": [
    "# Preview inputs.\n",
    "inputs.head()"
   ]
  },
  {
   "cell_type": "code",
   "execution_count": 560,
   "metadata": {},
   "outputs": [
    {
     "data": {
      "text/plain": [
       "LogisticRegression(max_iter=1000, random_state=0)"
      ]
     },
     "execution_count": 560,
     "metadata": {},
     "output_type": "execute_result"
    }
   ],
   "source": [
    "# Creates a new classifier.\n",
    "# Solver & max iters info. https://stackoverflow.com/questions/62658215/convergencewarning-lbfgs-failed-to-converge-status-1-stop-total-no-of-iter\n",
    "lre = lm.LogisticRegression(random_state=0, solver='lbfgs', max_iter=1000) # Parameter is random state, meaning it uses the same random process each time.\n",
    "\n",
    "# Train the classifier on the data.\n",
    "lre.fit(inputs[['alcohol', 'volatile acidity']], outputs)"
   ]
  },
  {
   "cell_type": "code",
   "execution_count": 561,
   "metadata": {},
   "outputs": [
    {
     "data": {
      "text/plain": [
       "array([5, 5, 5, 5, 5, 6, 5, 6, 5, 5, 6, 5, 7, 6, 5, 5, 5, 5, 6, 5, 5, 6,\n",
       "       6, 5, 6, 6, 6, 7, 7, 6, 6, 5, 7, 6, 5, 5, 5, 5, 6, 5, 6, 6, 5, 5,\n",
       "       5, 5, 6, 5, 6, 5, 5, 5, 6, 5, 6, 5, 6, 6, 5, 5, 5, 6, 5, 6, 6, 6,\n",
       "       6, 6, 6, 5, 6, 5, 5, 6, 6, 5, 5, 5, 6, 5, 5, 6, 5, 5, 6, 5, 5, 5,\n",
       "       6, 6, 5, 5, 5, 5, 5, 5, 5, 5, 5, 6, 5, 5, 7, 6, 5, 5, 6, 6, 7, 6,\n",
       "       5, 6, 5, 6, 7, 5, 7, 5, 6, 6, 5, 5, 5, 5, 6, 5, 5, 5, 5, 5, 6, 5,\n",
       "       6, 5, 7, 5, 5, 5, 6, 6, 6, 7, 6, 6, 5, 5, 6, 6, 6, 5, 5, 5, 6, 5,\n",
       "       5, 5, 5, 6, 5, 6, 5, 5, 5, 5, 6, 6, 5, 6, 6, 6, 5, 6, 5, 6, 5, 5,\n",
       "       5, 5, 6, 5, 6, 6, 5, 6, 6, 7, 6, 5, 6, 6, 5, 5, 5, 6, 5, 6, 6, 5,\n",
       "       6, 5, 5, 5, 5, 6, 5, 5, 6, 5, 5, 5, 6, 6, 6, 5, 6, 5, 6, 6, 6, 5,\n",
       "       6, 7, 5, 6, 6, 6, 6, 5, 5, 5, 5, 5, 6, 6, 5, 5, 6, 6, 5, 6, 5, 5,\n",
       "       5, 6, 5, 5, 5, 6, 5, 5, 7, 6, 6, 6, 6, 5, 6, 5, 6, 5, 5, 5, 6, 6,\n",
       "       6, 5, 5, 6, 6, 5, 5, 6, 5, 6, 5, 6, 6, 5, 6, 6, 6, 6, 5, 5, 6, 6,\n",
       "       6, 7, 5, 5, 5, 5, 5, 5, 5, 5, 5, 5, 6, 6, 5, 5, 6, 6, 5, 5, 6, 5,\n",
       "       5, 5, 6, 5, 6, 5, 6, 5, 5, 5, 5, 5, 5, 5, 5, 5, 5, 6, 5, 6, 5, 5,\n",
       "       5, 5, 6, 5, 7, 5, 5, 6, 6, 6, 6, 5, 6, 5, 6, 5, 6, 6, 5, 5, 5, 6,\n",
       "       5, 6, 5, 6, 6, 5, 6, 5, 5, 5, 6, 6, 5, 5, 6, 5, 5, 5, 5, 5, 5, 6,\n",
       "       5, 6, 6, 5, 5, 5, 5, 5, 6, 6, 6, 5, 5, 6, 6, 6, 5, 6, 7, 5, 5, 5,\n",
       "       6, 6, 5, 5])"
      ]
     },
     "execution_count": 561,
     "metadata": {},
     "output_type": "execute_result"
    }
   ],
   "source": [
    "# See how the algorithm classified the data.\n",
    "predictions = lre.predict(test[['alcohol', 'volatile acidity']])\n",
    "predictions"
   ]
  },
  {
   "cell_type": "code",
   "execution_count": 562,
   "metadata": {},
   "outputs": [
    {
     "data": {
      "text/plain": [
       "942     False\n",
       "576     False\n",
       "562      True\n",
       "322      True\n",
       "311     False\n",
       "        ...  \n",
       "313      True\n",
       "1105    False\n",
       "618     False\n",
       "1304     True\n",
       "534     False\n",
       "Name: quality, Length: 400, dtype: bool"
      ]
     },
     "execution_count": 562,
     "metadata": {},
     "output_type": "execute_result"
    }
   ],
   "source": [
    "# View the misclassifications.\n",
    "predictions == test['quality']"
   ]
  },
  {
   "cell_type": "markdown",
   "metadata": {},
   "source": [
    "## Accuracy\n",
    "***\n",
    "\n",
    "The score(X, y) method determines the accuracy of the algorithm on the test data, returning a score out of 1."
   ]
  },
  {
   "cell_type": "code",
   "execution_count": 563,
   "metadata": {},
   "outputs": [
    {
     "data": {
      "text/plain": [
       "0.5775"
      ]
     },
     "execution_count": 563,
     "metadata": {},
     "output_type": "execute_result"
    }
   ],
   "source": [
    "# How accurate was the algorithm?\n",
    "lre.score(test[['alcohol', 'volatile acidity']], test['quality'])"
   ]
  },
  {
   "cell_type": "markdown",
   "metadata": {},
   "source": [
    "<br>\n",
    "\n",
    "## Misclassified"
   ]
  },
  {
   "cell_type": "code",
   "execution_count": 521,
   "metadata": {},
   "outputs": [
    {
     "name": "stderr",
     "output_type": "stream",
     "text": [
      "/var/folders/xq/j7llnxgx78d984nx_t1lty9c0000gn/T/ipykernel_14414/2389557802.py:2: SettingWithCopyWarning: \n",
      "A value is trying to be set on a copy of a slice from a DataFrame.\n",
      "Try using .loc[row_indexer,col_indexer] = value instead\n",
      "\n",
      "See the caveats in the documentation: https://pandas.pydata.org/pandas-docs/stable/user_guide/indexing.html#returning-a-view-versus-a-copy\n",
      "  test['predicted'] = predictions\n"
     ]
    },
    {
     "data": {
      "text/html": [
       "<div>\n",
       "<style scoped>\n",
       "    .dataframe tbody tr th:only-of-type {\n",
       "        vertical-align: middle;\n",
       "    }\n",
       "\n",
       "    .dataframe tbody tr th {\n",
       "        vertical-align: top;\n",
       "    }\n",
       "\n",
       "    .dataframe thead th {\n",
       "        text-align: right;\n",
       "    }\n",
       "</style>\n",
       "<table border=\"1\" class=\"dataframe\">\n",
       "  <thead>\n",
       "    <tr style=\"text-align: right;\">\n",
       "      <th></th>\n",
       "      <th>fixed acidity</th>\n",
       "      <th>volatile acidity</th>\n",
       "      <th>citric acid</th>\n",
       "      <th>residual sugar</th>\n",
       "      <th>chlorides</th>\n",
       "      <th>free sulfur dioxide</th>\n",
       "      <th>total sulfur dioxide</th>\n",
       "      <th>density</th>\n",
       "      <th>pH</th>\n",
       "      <th>sulphates</th>\n",
       "      <th>alcohol</th>\n",
       "      <th>quality</th>\n",
       "      <th>predicted</th>\n",
       "    </tr>\n",
       "  </thead>\n",
       "  <tbody>\n",
       "    <tr>\n",
       "      <th>1235</th>\n",
       "      <td>6.0</td>\n",
       "      <td>0.330</td>\n",
       "      <td>0.32</td>\n",
       "      <td>12.9</td>\n",
       "      <td>0.054</td>\n",
       "      <td>6.0</td>\n",
       "      <td>113.0</td>\n",
       "      <td>0.99572</td>\n",
       "      <td>3.30</td>\n",
       "      <td>0.56</td>\n",
       "      <td>11.5</td>\n",
       "      <td>4</td>\n",
       "      <td>6</td>\n",
       "    </tr>\n",
       "    <tr>\n",
       "      <th>715</th>\n",
       "      <td>7.2</td>\n",
       "      <td>0.490</td>\n",
       "      <td>0.18</td>\n",
       "      <td>2.7</td>\n",
       "      <td>0.069</td>\n",
       "      <td>13.0</td>\n",
       "      <td>34.0</td>\n",
       "      <td>0.99670</td>\n",
       "      <td>3.29</td>\n",
       "      <td>0.48</td>\n",
       "      <td>9.2</td>\n",
       "      <td>6</td>\n",
       "      <td>5</td>\n",
       "    </tr>\n",
       "    <tr>\n",
       "      <th>835</th>\n",
       "      <td>7.6</td>\n",
       "      <td>0.665</td>\n",
       "      <td>0.10</td>\n",
       "      <td>1.5</td>\n",
       "      <td>0.066</td>\n",
       "      <td>27.0</td>\n",
       "      <td>55.0</td>\n",
       "      <td>0.99655</td>\n",
       "      <td>3.39</td>\n",
       "      <td>0.51</td>\n",
       "      <td>9.3</td>\n",
       "      <td>5</td>\n",
       "      <td>5</td>\n",
       "    </tr>\n",
       "    <tr>\n",
       "      <th>678</th>\n",
       "      <td>8.3</td>\n",
       "      <td>0.780</td>\n",
       "      <td>0.10</td>\n",
       "      <td>2.6</td>\n",
       "      <td>0.081</td>\n",
       "      <td>45.0</td>\n",
       "      <td>87.0</td>\n",
       "      <td>0.99830</td>\n",
       "      <td>3.48</td>\n",
       "      <td>0.53</td>\n",
       "      <td>10.0</td>\n",
       "      <td>5</td>\n",
       "      <td>5</td>\n",
       "    </tr>\n",
       "    <tr>\n",
       "      <th>1108</th>\n",
       "      <td>8.1</td>\n",
       "      <td>0.780</td>\n",
       "      <td>0.10</td>\n",
       "      <td>3.3</td>\n",
       "      <td>0.090</td>\n",
       "      <td>4.0</td>\n",
       "      <td>13.0</td>\n",
       "      <td>0.99855</td>\n",
       "      <td>3.36</td>\n",
       "      <td>0.49</td>\n",
       "      <td>9.5</td>\n",
       "      <td>5</td>\n",
       "      <td>5</td>\n",
       "    </tr>\n",
       "  </tbody>\n",
       "</table>\n",
       "</div>"
      ],
      "text/plain": [
       "      fixed acidity  volatile acidity  citric acid  residual sugar  chlorides  \\\n",
       "1235            6.0             0.330         0.32            12.9      0.054   \n",
       "715             7.2             0.490         0.18             2.7      0.069   \n",
       "835             7.6             0.665         0.10             1.5      0.066   \n",
       "678             8.3             0.780         0.10             2.6      0.081   \n",
       "1108            8.1             0.780         0.10             3.3      0.090   \n",
       "\n",
       "      free sulfur dioxide  total sulfur dioxide  density    pH  sulphates  \\\n",
       "1235                  6.0                 113.0  0.99572  3.30       0.56   \n",
       "715                  13.0                  34.0  0.99670  3.29       0.48   \n",
       "835                  27.0                  55.0  0.99655  3.39       0.51   \n",
       "678                  45.0                  87.0  0.99830  3.48       0.53   \n",
       "1108                  4.0                  13.0  0.99855  3.36       0.49   \n",
       "\n",
       "      alcohol  quality  predicted  \n",
       "1235     11.5        4          6  \n",
       "715       9.2        6          5  \n",
       "835       9.3        5          5  \n",
       "678      10.0        5          5  \n",
       "1108      9.5        5          5  "
      ]
     },
     "execution_count": 521,
     "metadata": {},
     "output_type": "execute_result"
    }
   ],
   "source": [
    "# Show the predictions with a column the table. \n",
    "test['predicted'] = predictions\n",
    "test.head()"
   ]
  },
  {
   "cell_type": "code",
   "execution_count": 522,
   "metadata": {},
   "outputs": [
    {
     "data": {
      "text/html": [
       "<div>\n",
       "<style scoped>\n",
       "    .dataframe tbody tr th:only-of-type {\n",
       "        vertical-align: middle;\n",
       "    }\n",
       "\n",
       "    .dataframe tbody tr th {\n",
       "        vertical-align: top;\n",
       "    }\n",
       "\n",
       "    .dataframe thead th {\n",
       "        text-align: right;\n",
       "    }\n",
       "</style>\n",
       "<table border=\"1\" class=\"dataframe\">\n",
       "  <thead>\n",
       "    <tr style=\"text-align: right;\">\n",
       "      <th></th>\n",
       "      <th>fixed acidity</th>\n",
       "      <th>volatile acidity</th>\n",
       "      <th>citric acid</th>\n",
       "      <th>residual sugar</th>\n",
       "      <th>chlorides</th>\n",
       "      <th>free sulfur dioxide</th>\n",
       "      <th>total sulfur dioxide</th>\n",
       "      <th>density</th>\n",
       "      <th>pH</th>\n",
       "      <th>sulphates</th>\n",
       "      <th>alcohol</th>\n",
       "      <th>quality</th>\n",
       "      <th>predicted</th>\n",
       "    </tr>\n",
       "  </thead>\n",
       "  <tbody>\n",
       "    <tr>\n",
       "      <th>1235</th>\n",
       "      <td>6.0</td>\n",
       "      <td>0.330</td>\n",
       "      <td>0.32</td>\n",
       "      <td>12.9</td>\n",
       "      <td>0.054</td>\n",
       "      <td>6.0</td>\n",
       "      <td>113.0</td>\n",
       "      <td>0.99572</td>\n",
       "      <td>3.30</td>\n",
       "      <td>0.56</td>\n",
       "      <td>11.5</td>\n",
       "      <td>4</td>\n",
       "      <td>6</td>\n",
       "    </tr>\n",
       "    <tr>\n",
       "      <th>715</th>\n",
       "      <td>7.2</td>\n",
       "      <td>0.490</td>\n",
       "      <td>0.18</td>\n",
       "      <td>2.7</td>\n",
       "      <td>0.069</td>\n",
       "      <td>13.0</td>\n",
       "      <td>34.0</td>\n",
       "      <td>0.99670</td>\n",
       "      <td>3.29</td>\n",
       "      <td>0.48</td>\n",
       "      <td>9.2</td>\n",
       "      <td>6</td>\n",
       "      <td>5</td>\n",
       "    </tr>\n",
       "    <tr>\n",
       "      <th>1196</th>\n",
       "      <td>7.9</td>\n",
       "      <td>0.580</td>\n",
       "      <td>0.23</td>\n",
       "      <td>2.3</td>\n",
       "      <td>0.076</td>\n",
       "      <td>23.0</td>\n",
       "      <td>94.0</td>\n",
       "      <td>0.99686</td>\n",
       "      <td>3.21</td>\n",
       "      <td>0.58</td>\n",
       "      <td>9.5</td>\n",
       "      <td>6</td>\n",
       "      <td>5</td>\n",
       "    </tr>\n",
       "    <tr>\n",
       "      <th>557</th>\n",
       "      <td>15.6</td>\n",
       "      <td>0.645</td>\n",
       "      <td>0.49</td>\n",
       "      <td>4.2</td>\n",
       "      <td>0.095</td>\n",
       "      <td>10.0</td>\n",
       "      <td>23.0</td>\n",
       "      <td>1.00315</td>\n",
       "      <td>2.92</td>\n",
       "      <td>0.74</td>\n",
       "      <td>11.1</td>\n",
       "      <td>5</td>\n",
       "      <td>6</td>\n",
       "    </tr>\n",
       "    <tr>\n",
       "      <th>1534</th>\n",
       "      <td>6.6</td>\n",
       "      <td>0.560</td>\n",
       "      <td>0.14</td>\n",
       "      <td>2.4</td>\n",
       "      <td>0.064</td>\n",
       "      <td>13.0</td>\n",
       "      <td>29.0</td>\n",
       "      <td>0.99397</td>\n",
       "      <td>3.42</td>\n",
       "      <td>0.62</td>\n",
       "      <td>11.7</td>\n",
       "      <td>7</td>\n",
       "      <td>6</td>\n",
       "    </tr>\n",
       "    <tr>\n",
       "      <th>...</th>\n",
       "      <td>...</td>\n",
       "      <td>...</td>\n",
       "      <td>...</td>\n",
       "      <td>...</td>\n",
       "      <td>...</td>\n",
       "      <td>...</td>\n",
       "      <td>...</td>\n",
       "      <td>...</td>\n",
       "      <td>...</td>\n",
       "      <td>...</td>\n",
       "      <td>...</td>\n",
       "      <td>...</td>\n",
       "      <td>...</td>\n",
       "    </tr>\n",
       "    <tr>\n",
       "      <th>91</th>\n",
       "      <td>8.6</td>\n",
       "      <td>0.490</td>\n",
       "      <td>0.28</td>\n",
       "      <td>1.9</td>\n",
       "      <td>0.110</td>\n",
       "      <td>20.0</td>\n",
       "      <td>136.0</td>\n",
       "      <td>0.99720</td>\n",
       "      <td>2.93</td>\n",
       "      <td>1.95</td>\n",
       "      <td>9.9</td>\n",
       "      <td>6</td>\n",
       "      <td>5</td>\n",
       "    </tr>\n",
       "    <tr>\n",
       "      <th>945</th>\n",
       "      <td>10.2</td>\n",
       "      <td>0.440</td>\n",
       "      <td>0.42</td>\n",
       "      <td>2.0</td>\n",
       "      <td>0.071</td>\n",
       "      <td>7.0</td>\n",
       "      <td>20.0</td>\n",
       "      <td>0.99566</td>\n",
       "      <td>3.14</td>\n",
       "      <td>0.79</td>\n",
       "      <td>11.1</td>\n",
       "      <td>7</td>\n",
       "      <td>6</td>\n",
       "    </tr>\n",
       "    <tr>\n",
       "      <th>205</th>\n",
       "      <td>12.8</td>\n",
       "      <td>0.300</td>\n",
       "      <td>0.74</td>\n",
       "      <td>2.6</td>\n",
       "      <td>0.095</td>\n",
       "      <td>9.0</td>\n",
       "      <td>28.0</td>\n",
       "      <td>0.99940</td>\n",
       "      <td>3.20</td>\n",
       "      <td>0.77</td>\n",
       "      <td>10.8</td>\n",
       "      <td>7</td>\n",
       "      <td>6</td>\n",
       "    </tr>\n",
       "    <tr>\n",
       "      <th>770</th>\n",
       "      <td>7.1</td>\n",
       "      <td>0.590</td>\n",
       "      <td>0.02</td>\n",
       "      <td>2.3</td>\n",
       "      <td>0.082</td>\n",
       "      <td>24.0</td>\n",
       "      <td>94.0</td>\n",
       "      <td>0.99744</td>\n",
       "      <td>3.55</td>\n",
       "      <td>0.53</td>\n",
       "      <td>9.7</td>\n",
       "      <td>6</td>\n",
       "      <td>5</td>\n",
       "    </tr>\n",
       "    <tr>\n",
       "      <th>1269</th>\n",
       "      <td>5.5</td>\n",
       "      <td>0.490</td>\n",
       "      <td>0.03</td>\n",
       "      <td>1.8</td>\n",
       "      <td>0.044</td>\n",
       "      <td>28.0</td>\n",
       "      <td>87.0</td>\n",
       "      <td>0.99080</td>\n",
       "      <td>3.50</td>\n",
       "      <td>0.82</td>\n",
       "      <td>14.0</td>\n",
       "      <td>8</td>\n",
       "      <td>7</td>\n",
       "    </tr>\n",
       "  </tbody>\n",
       "</table>\n",
       "<p>113 rows × 13 columns</p>\n",
       "</div>"
      ],
      "text/plain": [
       "      fixed acidity  volatile acidity  citric acid  residual sugar  chlorides  \\\n",
       "1235            6.0             0.330         0.32            12.9      0.054   \n",
       "715             7.2             0.490         0.18             2.7      0.069   \n",
       "1196            7.9             0.580         0.23             2.3      0.076   \n",
       "557            15.6             0.645         0.49             4.2      0.095   \n",
       "1534            6.6             0.560         0.14             2.4      0.064   \n",
       "...             ...               ...          ...             ...        ...   \n",
       "91              8.6             0.490         0.28             1.9      0.110   \n",
       "945            10.2             0.440         0.42             2.0      0.071   \n",
       "205            12.8             0.300         0.74             2.6      0.095   \n",
       "770             7.1             0.590         0.02             2.3      0.082   \n",
       "1269            5.5             0.490         0.03             1.8      0.044   \n",
       "\n",
       "      free sulfur dioxide  total sulfur dioxide  density    pH  sulphates  \\\n",
       "1235                  6.0                 113.0  0.99572  3.30       0.56   \n",
       "715                  13.0                  34.0  0.99670  3.29       0.48   \n",
       "1196                 23.0                  94.0  0.99686  3.21       0.58   \n",
       "557                  10.0                  23.0  1.00315  2.92       0.74   \n",
       "1534                 13.0                  29.0  0.99397  3.42       0.62   \n",
       "...                   ...                   ...      ...   ...        ...   \n",
       "91                   20.0                 136.0  0.99720  2.93       1.95   \n",
       "945                   7.0                  20.0  0.99566  3.14       0.79   \n",
       "205                   9.0                  28.0  0.99940  3.20       0.77   \n",
       "770                  24.0                  94.0  0.99744  3.55       0.53   \n",
       "1269                 28.0                  87.0  0.99080  3.50       0.82   \n",
       "\n",
       "      alcohol  quality  predicted  \n",
       "1235     11.5        4          6  \n",
       "715       9.2        6          5  \n",
       "1196      9.5        6          5  \n",
       "557      11.1        5          6  \n",
       "1534     11.7        7          6  \n",
       "...       ...      ...        ...  \n",
       "91        9.9        6          5  \n",
       "945      11.1        7          6  \n",
       "205      10.8        7          6  \n",
       "770       9.7        6          5  \n",
       "1269     14.0        8          7  \n",
       "\n",
       "[113 rows x 13 columns]"
      ]
     },
     "execution_count": 522,
     "metadata": {},
     "output_type": "execute_result"
    }
   ],
   "source": [
    "# Shows the misclassified data.\n",
    "misclass = test[test['predicted'] != test['quality']]\n",
    "misclass"
   ]
  },
  {
   "cell_type": "code",
   "execution_count": 523,
   "metadata": {},
   "outputs": [
    {
     "data": {
      "text/plain": [
       "320"
      ]
     },
     "execution_count": 523,
     "metadata": {},
     "output_type": "execute_result"
    }
   ],
   "source": [
    "test[\"quality\"].count()"
   ]
  },
  {
   "cell_type": "markdown",
   "metadata": {},
   "source": [
    "#### Count the misclassifications"
   ]
  },
  {
   "cell_type": "code",
   "execution_count": 524,
   "metadata": {},
   "outputs": [
    {
     "data": {
      "text/plain": [
       "fixed acidity           113\n",
       "volatile acidity        113\n",
       "citric acid             113\n",
       "residual sugar          113\n",
       "chlorides               113\n",
       "free sulfur dioxide     113\n",
       "total sulfur dioxide    113\n",
       "density                 113\n",
       "pH                      113\n",
       "sulphates               113\n",
       "alcohol                 113\n",
       "quality                 113\n",
       "predicted               113\n",
       "dtype: int64"
      ]
     },
     "execution_count": 524,
     "metadata": {},
     "output_type": "execute_result"
    }
   ],
   "source": [
    "misclass.count()"
   ]
  },
  {
   "cell_type": "code",
   "execution_count": 525,
   "metadata": {},
   "outputs": [
    {
     "data": {
      "text/html": [
       "<div>\n",
       "<style scoped>\n",
       "    .dataframe tbody tr th:only-of-type {\n",
       "        vertical-align: middle;\n",
       "    }\n",
       "\n",
       "    .dataframe tbody tr th {\n",
       "        vertical-align: top;\n",
       "    }\n",
       "\n",
       "    .dataframe thead th {\n",
       "        text-align: right;\n",
       "    }\n",
       "</style>\n",
       "<table border=\"1\" class=\"dataframe\">\n",
       "  <thead>\n",
       "    <tr style=\"text-align: right;\">\n",
       "      <th></th>\n",
       "      <th>fixed acidity</th>\n",
       "      <th>volatile acidity</th>\n",
       "      <th>citric acid</th>\n",
       "      <th>residual sugar</th>\n",
       "      <th>chlorides</th>\n",
       "      <th>free sulfur dioxide</th>\n",
       "      <th>total sulfur dioxide</th>\n",
       "      <th>density</th>\n",
       "      <th>pH</th>\n",
       "      <th>sulphates</th>\n",
       "      <th>alcohol</th>\n",
       "    </tr>\n",
       "    <tr>\n",
       "      <th>quality</th>\n",
       "      <th></th>\n",
       "      <th></th>\n",
       "      <th></th>\n",
       "      <th></th>\n",
       "      <th></th>\n",
       "      <th></th>\n",
       "      <th></th>\n",
       "      <th></th>\n",
       "      <th></th>\n",
       "      <th></th>\n",
       "      <th></th>\n",
       "    </tr>\n",
       "  </thead>\n",
       "  <tbody>\n",
       "    <tr>\n",
       "      <th>3</th>\n",
       "      <td>8.300</td>\n",
       "      <td>0.928</td>\n",
       "      <td>0.153</td>\n",
       "      <td>2.881</td>\n",
       "      <td>0.095</td>\n",
       "      <td>11.125</td>\n",
       "      <td>25.500</td>\n",
       "      <td>0.998</td>\n",
       "      <td>3.438</td>\n",
       "      <td>0.570</td>\n",
       "      <td>10.169</td>\n",
       "    </tr>\n",
       "    <tr>\n",
       "      <th>4</th>\n",
       "      <td>7.856</td>\n",
       "      <td>0.708</td>\n",
       "      <td>0.163</td>\n",
       "      <td>2.489</td>\n",
       "      <td>0.092</td>\n",
       "      <td>12.267</td>\n",
       "      <td>34.156</td>\n",
       "      <td>0.997</td>\n",
       "      <td>3.382</td>\n",
       "      <td>0.609</td>\n",
       "      <td>10.284</td>\n",
       "    </tr>\n",
       "    <tr>\n",
       "      <th>5</th>\n",
       "      <td>8.234</td>\n",
       "      <td>0.576</td>\n",
       "      <td>0.249</td>\n",
       "      <td>2.529</td>\n",
       "      <td>0.094</td>\n",
       "      <td>16.878</td>\n",
       "      <td>56.352</td>\n",
       "      <td>0.997</td>\n",
       "      <td>3.300</td>\n",
       "      <td>0.625</td>\n",
       "      <td>9.916</td>\n",
       "    </tr>\n",
       "    <tr>\n",
       "      <th>6</th>\n",
       "      <td>8.247</td>\n",
       "      <td>0.497</td>\n",
       "      <td>0.268</td>\n",
       "      <td>2.496</td>\n",
       "      <td>0.085</td>\n",
       "      <td>15.830</td>\n",
       "      <td>39.984</td>\n",
       "      <td>0.997</td>\n",
       "      <td>3.325</td>\n",
       "      <td>0.667</td>\n",
       "      <td>10.615</td>\n",
       "    </tr>\n",
       "    <tr>\n",
       "      <th>7</th>\n",
       "      <td>8.786</td>\n",
       "      <td>0.411</td>\n",
       "      <td>0.367</td>\n",
       "      <td>2.721</td>\n",
       "      <td>0.075</td>\n",
       "      <td>13.676</td>\n",
       "      <td>34.196</td>\n",
       "      <td>0.996</td>\n",
       "      <td>3.299</td>\n",
       "      <td>0.737</td>\n",
       "      <td>11.466</td>\n",
       "    </tr>\n",
       "    <tr>\n",
       "      <th>8</th>\n",
       "      <td>8.800</td>\n",
       "      <td>0.424</td>\n",
       "      <td>0.409</td>\n",
       "      <td>2.562</td>\n",
       "      <td>0.069</td>\n",
       "      <td>12.250</td>\n",
       "      <td>29.875</td>\n",
       "      <td>0.995</td>\n",
       "      <td>3.248</td>\n",
       "      <td>0.759</td>\n",
       "      <td>11.931</td>\n",
       "    </tr>\n",
       "  </tbody>\n",
       "</table>\n",
       "</div>"
      ],
      "text/plain": [
       "         fixed acidity  volatile acidity  citric acid  residual sugar  \\\n",
       "quality                                                                 \n",
       "3                8.300             0.928        0.153           2.881   \n",
       "4                7.856             0.708        0.163           2.489   \n",
       "5                8.234             0.576        0.249           2.529   \n",
       "6                8.247             0.497        0.268           2.496   \n",
       "7                8.786             0.411        0.367           2.721   \n",
       "8                8.800             0.424        0.409           2.562   \n",
       "\n",
       "         chlorides  free sulfur dioxide  total sulfur dioxide  density     pH  \\\n",
       "quality                                                                         \n",
       "3            0.095               11.125                25.500    0.998  3.438   \n",
       "4            0.092               12.267                34.156    0.997  3.382   \n",
       "5            0.094               16.878                56.352    0.997  3.300   \n",
       "6            0.085               15.830                39.984    0.997  3.325   \n",
       "7            0.075               13.676                34.196    0.996  3.299   \n",
       "8            0.069               12.250                29.875    0.995  3.248   \n",
       "\n",
       "         sulphates  alcohol  \n",
       "quality                      \n",
       "3            0.570   10.169  \n",
       "4            0.609   10.284  \n",
       "5            0.625    9.916  \n",
       "6            0.667   10.615  \n",
       "7            0.737   11.466  \n",
       "8            0.759   11.931  "
      ]
     },
     "execution_count": 525,
     "metadata": {},
     "output_type": "execute_result"
    }
   ],
   "source": [
    "# View descriptive statistics for train quality.\n",
    "round(train.groupby('quality').mean(), 3)"
   ]
  },
  {
   "cell_type": "code",
   "execution_count": 526,
   "metadata": {},
   "outputs": [
    {
     "data": {
      "text/html": [
       "<div>\n",
       "<style scoped>\n",
       "    .dataframe tbody tr th:only-of-type {\n",
       "        vertical-align: middle;\n",
       "    }\n",
       "\n",
       "    .dataframe tbody tr th {\n",
       "        vertical-align: top;\n",
       "    }\n",
       "\n",
       "    .dataframe thead th {\n",
       "        text-align: right;\n",
       "    }\n",
       "</style>\n",
       "<table border=\"1\" class=\"dataframe\">\n",
       "  <thead>\n",
       "    <tr style=\"text-align: right;\">\n",
       "      <th></th>\n",
       "      <th>fixed acidity</th>\n",
       "      <th>volatile acidity</th>\n",
       "      <th>citric acid</th>\n",
       "      <th>residual sugar</th>\n",
       "      <th>chlorides</th>\n",
       "      <th>free sulfur dioxide</th>\n",
       "      <th>total sulfur dioxide</th>\n",
       "      <th>density</th>\n",
       "      <th>pH</th>\n",
       "      <th>sulphates</th>\n",
       "      <th>alcohol</th>\n",
       "      <th>predicted</th>\n",
       "    </tr>\n",
       "    <tr>\n",
       "      <th>quality</th>\n",
       "      <th></th>\n",
       "      <th></th>\n",
       "      <th></th>\n",
       "      <th></th>\n",
       "      <th></th>\n",
       "      <th></th>\n",
       "      <th></th>\n",
       "      <th></th>\n",
       "      <th></th>\n",
       "      <th></th>\n",
       "      <th></th>\n",
       "      <th></th>\n",
       "    </tr>\n",
       "  </thead>\n",
       "  <tbody>\n",
       "    <tr>\n",
       "      <th>3</th>\n",
       "      <td>8.600</td>\n",
       "      <td>0.712</td>\n",
       "      <td>0.245</td>\n",
       "      <td>1.650</td>\n",
       "      <td>0.234</td>\n",
       "      <td>10.500</td>\n",
       "      <td>22.500</td>\n",
       "      <td>0.997</td>\n",
       "      <td>3.240</td>\n",
       "      <td>0.570</td>\n",
       "      <td>9.100</td>\n",
       "      <td>5.000</td>\n",
       "    </tr>\n",
       "    <tr>\n",
       "      <th>4</th>\n",
       "      <td>7.350</td>\n",
       "      <td>0.616</td>\n",
       "      <td>0.235</td>\n",
       "      <td>3.850</td>\n",
       "      <td>0.083</td>\n",
       "      <td>12.250</td>\n",
       "      <td>48.000</td>\n",
       "      <td>0.996</td>\n",
       "      <td>3.376</td>\n",
       "      <td>0.525</td>\n",
       "      <td>10.156</td>\n",
       "      <td>5.375</td>\n",
       "    </tr>\n",
       "    <tr>\n",
       "      <th>5</th>\n",
       "      <td>7.931</td>\n",
       "      <td>0.580</td>\n",
       "      <td>0.225</td>\n",
       "      <td>2.528</td>\n",
       "      <td>0.090</td>\n",
       "      <td>17.360</td>\n",
       "      <td>57.087</td>\n",
       "      <td>0.997</td>\n",
       "      <td>3.321</td>\n",
       "      <td>0.608</td>\n",
       "      <td>9.842</td>\n",
       "      <td>5.180</td>\n",
       "    </tr>\n",
       "    <tr>\n",
       "      <th>6</th>\n",
       "      <td>8.750</td>\n",
       "      <td>0.501</td>\n",
       "      <td>0.299</td>\n",
       "      <td>2.401</td>\n",
       "      <td>0.084</td>\n",
       "      <td>15.236</td>\n",
       "      <td>44.433</td>\n",
       "      <td>0.997</td>\n",
       "      <td>3.290</td>\n",
       "      <td>0.709</td>\n",
       "      <td>10.687</td>\n",
       "      <td>5.685</td>\n",
       "    </tr>\n",
       "    <tr>\n",
       "      <th>7</th>\n",
       "      <td>9.342</td>\n",
       "      <td>0.364</td>\n",
       "      <td>0.421</td>\n",
       "      <td>2.718</td>\n",
       "      <td>0.083</td>\n",
       "      <td>16.048</td>\n",
       "      <td>39.484</td>\n",
       "      <td>0.996</td>\n",
       "      <td>3.248</td>\n",
       "      <td>0.764</td>\n",
       "      <td>11.465</td>\n",
       "      <td>6.194</td>\n",
       "    </tr>\n",
       "    <tr>\n",
       "      <th>8</th>\n",
       "      <td>6.700</td>\n",
       "      <td>0.420</td>\n",
       "      <td>0.245</td>\n",
       "      <td>2.700</td>\n",
       "      <td>0.061</td>\n",
       "      <td>21.500</td>\n",
       "      <td>62.000</td>\n",
       "      <td>0.994</td>\n",
       "      <td>3.425</td>\n",
       "      <td>0.840</td>\n",
       "      <td>13.400</td>\n",
       "      <td>7.000</td>\n",
       "    </tr>\n",
       "  </tbody>\n",
       "</table>\n",
       "</div>"
      ],
      "text/plain": [
       "         fixed acidity  volatile acidity  citric acid  residual sugar  \\\n",
       "quality                                                                 \n",
       "3                8.600             0.712        0.245           1.650   \n",
       "4                7.350             0.616        0.235           3.850   \n",
       "5                7.931             0.580        0.225           2.528   \n",
       "6                8.750             0.501        0.299           2.401   \n",
       "7                9.342             0.364        0.421           2.718   \n",
       "8                6.700             0.420        0.245           2.700   \n",
       "\n",
       "         chlorides  free sulfur dioxide  total sulfur dioxide  density     pH  \\\n",
       "quality                                                                         \n",
       "3            0.234               10.500                22.500    0.997  3.240   \n",
       "4            0.083               12.250                48.000    0.996  3.376   \n",
       "5            0.090               17.360                57.087    0.997  3.321   \n",
       "6            0.084               15.236                44.433    0.997  3.290   \n",
       "7            0.083               16.048                39.484    0.996  3.248   \n",
       "8            0.061               21.500                62.000    0.994  3.425   \n",
       "\n",
       "         sulphates  alcohol  predicted  \n",
       "quality                                 \n",
       "3            0.570    9.100      5.000  \n",
       "4            0.525   10.156      5.375  \n",
       "5            0.608    9.842      5.180  \n",
       "6            0.709   10.687      5.685  \n",
       "7            0.764   11.465      6.194  \n",
       "8            0.840   13.400      7.000  "
      ]
     },
     "execution_count": 526,
     "metadata": {},
     "output_type": "execute_result"
    }
   ],
   "source": [
    "# View descriptive statistics for test quality.\n",
    "round(test.groupby('quality').mean(), 3)"
   ]
  },
  {
   "cell_type": "markdown",
   "metadata": {},
   "source": [
    "### Plot misclassifications\n",
    "***"
   ]
  },
  {
   "cell_type": "markdown",
   "metadata": {},
   "source": [
    "https://github.com/ianmcloughlin/jupyter-teaching-notebooks/blob/main/iris-classification.ipynb"
   ]
  },
  {
   "cell_type": "markdown",
   "metadata": {},
   "source": [
    "<br>\n",
    "\n",
    "## Logistic Regression - Using All Inputs\n",
    "\n",
    "***"
   ]
  },
  {
   "cell_type": "code",
   "execution_count": 527,
   "metadata": {},
   "outputs": [],
   "source": [
    "# Load the data\n",
    "df = pd.read_csv(\"data/winequality_red.csv\")\n",
    "\n",
    "# Split data frame in two\n",
    "train, test = mod.train_test_split(df)\n",
    "\n",
    "# Makes all variables inputs.\n",
    "inputs, outputs = train[col_names], train['quality']"
   ]
  },
  {
   "cell_type": "code",
   "execution_count": 567,
   "metadata": {},
   "outputs": [
    {
     "data": {
      "text/plain": [
       "LogisticRegression(max_iter=10000, random_state=0)"
      ]
     },
     "execution_count": 567,
     "metadata": {},
     "output_type": "execute_result"
    }
   ],
   "source": [
    "# Creates new classifier.\n",
    "lre = lm.LogisticRegression(random_state=0, solver='lbfgs', max_iter=10000)\n",
    "\n",
    "# Train the classifier on the data.\n",
    "lre.fit(inputs, outputs)"
   ]
  },
  {
   "cell_type": "code",
   "execution_count": 529,
   "metadata": {},
   "outputs": [
    {
     "data": {
      "text/plain": [
       "array([6, 5, 5, 5, 5, 5, 7, 5, 6, 6, 5, 5, 6, 5, 5, 5, 6, 7, 6, 5, 6, 6,\n",
       "       6, 6, 6, 6, 5, 6, 5, 7, 6, 5, 4, 7, 7, 6, 5, 5, 6, 6, 5, 6, 6, 5,\n",
       "       6, 6, 6, 5, 5, 6, 6, 5, 6, 6, 6, 7, 5, 5, 6, 5, 6, 6, 5, 6, 5, 5,\n",
       "       6, 5, 6, 7, 6, 5, 6, 6, 5, 7, 5, 6, 5, 6, 5, 6, 6, 5, 5, 5, 7, 6,\n",
       "       6, 5, 5, 6, 7, 6, 6, 5, 6, 5, 6, 5, 6, 5, 5, 5, 6, 6, 5, 6, 5, 6,\n",
       "       5, 7, 6, 6, 5, 5, 5, 6, 6, 6, 5, 6, 7, 6, 5, 6, 5, 5, 6, 7, 6, 6,\n",
       "       5, 7, 5, 5, 6, 6, 5, 5, 5, 7, 5, 5, 6, 6, 6, 5, 5, 6, 5, 5, 5, 5,\n",
       "       5, 6, 6, 5, 6, 6, 6, 6, 6, 5, 6, 5, 5, 7, 6, 5, 6, 5, 6, 6, 7, 6,\n",
       "       5, 6, 6, 5, 6, 5, 5, 5, 5, 6, 6, 5, 6, 6, 5, 6, 5, 7, 5, 7, 5, 5,\n",
       "       5, 6, 6, 6, 6, 5, 6, 5, 6, 5, 6, 6, 6, 5, 6, 5, 6, 6, 6, 6, 5, 6,\n",
       "       5, 6, 5, 6, 5, 4, 7, 5, 5, 5, 5, 6, 6, 7, 6, 5, 5, 5, 5, 6, 6, 6,\n",
       "       5, 6, 6, 5, 5, 5, 6, 6, 5, 5, 5, 5, 5, 7, 5, 4, 5, 5, 6, 5, 6, 6,\n",
       "       6, 6, 5, 6, 6, 5, 5, 6, 7, 5, 5, 5, 6, 6, 5, 7, 6, 5, 5, 6, 5, 7,\n",
       "       5, 5, 5, 6, 5, 6, 5, 6, 6, 6, 5, 7, 6, 5, 5, 5, 5, 5, 6, 6, 5, 6,\n",
       "       6, 5, 5, 5, 5, 5, 6, 5, 6, 5, 5, 6, 5, 5, 5, 6, 6, 6, 6, 6, 6, 6,\n",
       "       5, 5, 5, 5, 5, 6, 5, 6, 5, 5, 5, 5, 7, 6, 6, 6, 5, 6, 5, 6, 5, 6,\n",
       "       5, 6, 6, 6, 5, 5, 6, 5, 5, 5, 7, 5, 5, 6, 5, 7, 5, 6, 6, 6, 7, 5,\n",
       "       7, 6, 5, 6, 6, 5, 6, 5, 5, 7, 6, 6, 5, 5, 6, 5, 5, 5, 6, 5, 5, 5,\n",
       "       6, 6, 6, 6])"
      ]
     },
     "execution_count": 529,
     "metadata": {},
     "output_type": "execute_result"
    }
   ],
   "source": [
    "# Classify, predicts the test data.\n",
    "predictions = lre.predict(test[col_names])\n",
    "predictions"
   ]
  },
  {
   "cell_type": "code",
   "execution_count": 530,
   "metadata": {},
   "outputs": [
    {
     "data": {
      "text/plain": [
       "True     346\n",
       "False     54\n",
       "Name: quality, dtype: int64"
      ]
     },
     "execution_count": 530,
     "metadata": {},
     "output_type": "execute_result"
    }
   ],
   "source": [
    "# Views the misclassifications.\n",
    "(predictions == test['quality']).value_counts()"
   ]
  },
  {
   "cell_type": "code",
   "execution_count": 531,
   "metadata": {},
   "outputs": [
    {
     "data": {
      "text/plain": [
       "0.865"
      ]
     },
     "execution_count": 531,
     "metadata": {},
     "output_type": "execute_result"
    }
   ],
   "source": [
    "# Percentage score.\n",
    "lre.score(test[col_names], test['quality'])"
   ]
  },
  {
   "cell_type": "code",
   "execution_count": 532,
   "metadata": {},
   "outputs": [
    {
     "name": "stderr",
     "output_type": "stream",
     "text": [
      "/var/folders/xq/j7llnxgx78d984nx_t1lty9c0000gn/T/ipykernel_14414/4025106790.py:2: SettingWithCopyWarning: \n",
      "A value is trying to be set on a copy of a slice from a DataFrame.\n",
      "Try using .loc[row_indexer,col_indexer] = value instead\n",
      "\n",
      "See the caveats in the documentation: https://pandas.pydata.org/pandas-docs/stable/user_guide/indexing.html#returning-a-view-versus-a-copy\n",
      "  test['predicted'] = predictions\n"
     ]
    },
    {
     "data": {
      "text/html": [
       "<div>\n",
       "<style scoped>\n",
       "    .dataframe tbody tr th:only-of-type {\n",
       "        vertical-align: middle;\n",
       "    }\n",
       "\n",
       "    .dataframe tbody tr th {\n",
       "        vertical-align: top;\n",
       "    }\n",
       "\n",
       "    .dataframe thead th {\n",
       "        text-align: right;\n",
       "    }\n",
       "</style>\n",
       "<table border=\"1\" class=\"dataframe\">\n",
       "  <thead>\n",
       "    <tr style=\"text-align: right;\">\n",
       "      <th></th>\n",
       "      <th>fixed acidity</th>\n",
       "      <th>volatile acidity</th>\n",
       "      <th>citric acid</th>\n",
       "      <th>residual sugar</th>\n",
       "      <th>chlorides</th>\n",
       "      <th>free sulfur dioxide</th>\n",
       "      <th>total sulfur dioxide</th>\n",
       "      <th>density</th>\n",
       "      <th>pH</th>\n",
       "      <th>sulphates</th>\n",
       "      <th>alcohol</th>\n",
       "      <th>quality</th>\n",
       "      <th>predicted</th>\n",
       "    </tr>\n",
       "  </thead>\n",
       "  <tbody>\n",
       "    <tr>\n",
       "      <th>914</th>\n",
       "      <td>7.3</td>\n",
       "      <td>0.305</td>\n",
       "      <td>0.39</td>\n",
       "      <td>1.2</td>\n",
       "      <td>0.059</td>\n",
       "      <td>7.0</td>\n",
       "      <td>11.0</td>\n",
       "      <td>0.99331</td>\n",
       "      <td>3.29</td>\n",
       "      <td>0.52</td>\n",
       "      <td>11.5</td>\n",
       "      <td>6</td>\n",
       "      <td>6</td>\n",
       "    </tr>\n",
       "    <tr>\n",
       "      <th>362</th>\n",
       "      <td>11.9</td>\n",
       "      <td>0.580</td>\n",
       "      <td>0.66</td>\n",
       "      <td>2.5</td>\n",
       "      <td>0.072</td>\n",
       "      <td>6.0</td>\n",
       "      <td>37.0</td>\n",
       "      <td>0.99920</td>\n",
       "      <td>3.05</td>\n",
       "      <td>0.56</td>\n",
       "      <td>10.0</td>\n",
       "      <td>5</td>\n",
       "      <td>5</td>\n",
       "    </tr>\n",
       "    <tr>\n",
       "      <th>976</th>\n",
       "      <td>7.2</td>\n",
       "      <td>0.410</td>\n",
       "      <td>0.30</td>\n",
       "      <td>2.1</td>\n",
       "      <td>0.083</td>\n",
       "      <td>35.0</td>\n",
       "      <td>72.0</td>\n",
       "      <td>0.99700</td>\n",
       "      <td>3.44</td>\n",
       "      <td>0.52</td>\n",
       "      <td>9.4</td>\n",
       "      <td>5</td>\n",
       "      <td>5</td>\n",
       "    </tr>\n",
       "    <tr>\n",
       "      <th>1</th>\n",
       "      <td>7.8</td>\n",
       "      <td>0.880</td>\n",
       "      <td>0.00</td>\n",
       "      <td>2.6</td>\n",
       "      <td>0.098</td>\n",
       "      <td>25.0</td>\n",
       "      <td>67.0</td>\n",
       "      <td>0.99680</td>\n",
       "      <td>3.20</td>\n",
       "      <td>0.68</td>\n",
       "      <td>9.8</td>\n",
       "      <td>5</td>\n",
       "      <td>5</td>\n",
       "    </tr>\n",
       "    <tr>\n",
       "      <th>1438</th>\n",
       "      <td>7.0</td>\n",
       "      <td>0.590</td>\n",
       "      <td>0.00</td>\n",
       "      <td>1.7</td>\n",
       "      <td>0.052</td>\n",
       "      <td>3.0</td>\n",
       "      <td>8.0</td>\n",
       "      <td>0.99600</td>\n",
       "      <td>3.41</td>\n",
       "      <td>0.47</td>\n",
       "      <td>10.3</td>\n",
       "      <td>5</td>\n",
       "      <td>5</td>\n",
       "    </tr>\n",
       "  </tbody>\n",
       "</table>\n",
       "</div>"
      ],
      "text/plain": [
       "      fixed acidity  volatile acidity  citric acid  residual sugar  chlorides  \\\n",
       "914             7.3             0.305         0.39             1.2      0.059   \n",
       "362            11.9             0.580         0.66             2.5      0.072   \n",
       "976             7.2             0.410         0.30             2.1      0.083   \n",
       "1               7.8             0.880         0.00             2.6      0.098   \n",
       "1438            7.0             0.590         0.00             1.7      0.052   \n",
       "\n",
       "      free sulfur dioxide  total sulfur dioxide  density    pH  sulphates  \\\n",
       "914                   7.0                  11.0  0.99331  3.29       0.52   \n",
       "362                   6.0                  37.0  0.99920  3.05       0.56   \n",
       "976                  35.0                  72.0  0.99700  3.44       0.52   \n",
       "1                    25.0                  67.0  0.99680  3.20       0.68   \n",
       "1438                  3.0                   8.0  0.99600  3.41       0.47   \n",
       "\n",
       "      alcohol  quality  predicted  \n",
       "914      11.5        6          6  \n",
       "362      10.0        5          5  \n",
       "976       9.4        5          5  \n",
       "1         9.8        5          5  \n",
       "1438     10.3        5          5  "
      ]
     },
     "execution_count": 532,
     "metadata": {},
     "output_type": "execute_result"
    }
   ],
   "source": [
    "# Append predictions column to test dataframe. \n",
    "test['predicted'] = predictions\n",
    "test.head()"
   ]
  },
  {
   "cell_type": "markdown",
   "metadata": {},
   "source": [
    "This algorithm predicted the correct quality based on the various chemical properties in \"Enter number here\" percent of cases. "
   ]
  },
  {
   "cell_type": "markdown",
   "metadata": {},
   "source": [
    "## Nearest Neighbours Classifier\n",
    "\n",
    "[KNN Documentation](https://scikit-learn.org/stable/modules/generated/sklearn.neighbors.KNeighborsClassifier.html)\n",
    "\n",
    "***"
   ]
  },
  {
   "cell_type": "code",
   "execution_count": 533,
   "metadata": {},
   "outputs": [],
   "source": [
    "# Load wine quality data set.\n",
    "df = pd.read_csv(\"data/winequality_red.csv\")\n",
    "\n",
    "# List of the variables\n",
    "col_names = df.columns # this was list(df.columns) before, incase problem. "
   ]
  },
  {
   "cell_type": "code",
   "execution_count": 534,
   "metadata": {},
   "outputs": [],
   "source": [
    "# Splits the dataframe in two.\n",
    "train, test = mod.train_test_split(df)"
   ]
  },
  {
   "cell_type": "code",
   "execution_count": 535,
   "metadata": {},
   "outputs": [],
   "source": [
    "# Uses all variables as inputs\n",
    "inputs, outputs = col_names, 'quality'"
   ]
  },
  {
   "cell_type": "code",
   "execution_count": 536,
   "metadata": {},
   "outputs": [],
   "source": [
    "# Classifier with 10 nearest neighbors. \n",
    "knn = nei.KNeighborsClassifier(n_neighbors=5)"
   ]
  },
  {
   "cell_type": "code",
   "execution_count": 537,
   "metadata": {},
   "outputs": [
    {
     "data": {
      "text/plain": [
       "KNeighborsClassifier()"
      ]
     },
     "execution_count": 537,
     "metadata": {},
     "output_type": "execute_result"
    }
   ],
   "source": [
    "# Fit wih training data.\n",
    "knn.fit(train[inputs], train[outputs])"
   ]
  },
  {
   "cell_type": "code",
   "execution_count": 538,
   "metadata": {},
   "outputs": [
    {
     "data": {
      "text/plain": [
       "0.7356130108423686"
      ]
     },
     "execution_count": 538,
     "metadata": {},
     "output_type": "execute_result"
    }
   ],
   "source": [
    "# Test on the training data.\n",
    "knn.score(train[inputs], train[outputs])"
   ]
  },
  {
   "cell_type": "code",
   "execution_count": 539,
   "metadata": {},
   "outputs": [],
   "source": [
    "# Predict.\n",
    "predictions = knn.predict(test[inputs])"
   ]
  },
  {
   "cell_type": "code",
   "execution_count": 540,
   "metadata": {},
   "outputs": [
    {
     "data": {
      "text/plain": [
       "True     0.575\n",
       "False    0.425\n",
       "Name: quality, dtype: float64"
      ]
     },
     "execution_count": 540,
     "metadata": {},
     "output_type": "execute_result"
    }
   ],
   "source": [
    "# Score/accuracy\n",
    "(predictions == test['quality']).value_counts(normalize=True)"
   ]
  },
  {
   "cell_type": "code",
   "execution_count": 541,
   "metadata": {},
   "outputs": [
    {
     "name": "stderr",
     "output_type": "stream",
     "text": [
      "/var/folders/xq/j7llnxgx78d984nx_t1lty9c0000gn/T/ipykernel_14414/1097304577.py:2: SettingWithCopyWarning: \n",
      "A value is trying to be set on a copy of a slice from a DataFrame.\n",
      "Try using .loc[row_indexer,col_indexer] = value instead\n",
      "\n",
      "See the caveats in the documentation: https://pandas.pydata.org/pandas-docs/stable/user_guide/indexing.html#returning-a-view-versus-a-copy\n",
      "  test[\"predictions\"] = predictions\n"
     ]
    },
    {
     "data": {
      "text/html": [
       "<div>\n",
       "<style scoped>\n",
       "    .dataframe tbody tr th:only-of-type {\n",
       "        vertical-align: middle;\n",
       "    }\n",
       "\n",
       "    .dataframe tbody tr th {\n",
       "        vertical-align: top;\n",
       "    }\n",
       "\n",
       "    .dataframe thead th {\n",
       "        text-align: right;\n",
       "    }\n",
       "</style>\n",
       "<table border=\"1\" class=\"dataframe\">\n",
       "  <thead>\n",
       "    <tr style=\"text-align: right;\">\n",
       "      <th></th>\n",
       "      <th>fixed acidity</th>\n",
       "      <th>volatile acidity</th>\n",
       "      <th>citric acid</th>\n",
       "      <th>residual sugar</th>\n",
       "      <th>chlorides</th>\n",
       "      <th>free sulfur dioxide</th>\n",
       "      <th>total sulfur dioxide</th>\n",
       "      <th>density</th>\n",
       "      <th>pH</th>\n",
       "      <th>sulphates</th>\n",
       "      <th>alcohol</th>\n",
       "      <th>quality</th>\n",
       "      <th>predictions</th>\n",
       "    </tr>\n",
       "  </thead>\n",
       "  <tbody>\n",
       "    <tr>\n",
       "      <th>942</th>\n",
       "      <td>10.1</td>\n",
       "      <td>0.43</td>\n",
       "      <td>0.40</td>\n",
       "      <td>2.6</td>\n",
       "      <td>0.092</td>\n",
       "      <td>13.0</td>\n",
       "      <td>52.0</td>\n",
       "      <td>0.99834</td>\n",
       "      <td>3.22</td>\n",
       "      <td>0.64</td>\n",
       "      <td>10.0</td>\n",
       "      <td>7</td>\n",
       "      <td>6</td>\n",
       "    </tr>\n",
       "    <tr>\n",
       "      <th>576</th>\n",
       "      <td>9.9</td>\n",
       "      <td>0.50</td>\n",
       "      <td>0.24</td>\n",
       "      <td>2.3</td>\n",
       "      <td>0.103</td>\n",
       "      <td>6.0</td>\n",
       "      <td>14.0</td>\n",
       "      <td>0.99780</td>\n",
       "      <td>3.34</td>\n",
       "      <td>0.52</td>\n",
       "      <td>10.0</td>\n",
       "      <td>4</td>\n",
       "      <td>5</td>\n",
       "    </tr>\n",
       "    <tr>\n",
       "      <th>562</th>\n",
       "      <td>9.0</td>\n",
       "      <td>0.54</td>\n",
       "      <td>0.49</td>\n",
       "      <td>2.9</td>\n",
       "      <td>0.094</td>\n",
       "      <td>41.0</td>\n",
       "      <td>110.0</td>\n",
       "      <td>0.99820</td>\n",
       "      <td>3.08</td>\n",
       "      <td>0.61</td>\n",
       "      <td>9.2</td>\n",
       "      <td>5</td>\n",
       "      <td>5</td>\n",
       "    </tr>\n",
       "    <tr>\n",
       "      <th>322</th>\n",
       "      <td>7.8</td>\n",
       "      <td>0.62</td>\n",
       "      <td>0.05</td>\n",
       "      <td>2.3</td>\n",
       "      <td>0.079</td>\n",
       "      <td>6.0</td>\n",
       "      <td>18.0</td>\n",
       "      <td>0.99735</td>\n",
       "      <td>3.29</td>\n",
       "      <td>0.63</td>\n",
       "      <td>9.3</td>\n",
       "      <td>5</td>\n",
       "      <td>5</td>\n",
       "    </tr>\n",
       "    <tr>\n",
       "      <th>311</th>\n",
       "      <td>7.9</td>\n",
       "      <td>0.53</td>\n",
       "      <td>0.24</td>\n",
       "      <td>2.0</td>\n",
       "      <td>0.072</td>\n",
       "      <td>15.0</td>\n",
       "      <td>105.0</td>\n",
       "      <td>0.99600</td>\n",
       "      <td>3.27</td>\n",
       "      <td>0.54</td>\n",
       "      <td>9.4</td>\n",
       "      <td>6</td>\n",
       "      <td>5</td>\n",
       "    </tr>\n",
       "    <tr>\n",
       "      <th>...</th>\n",
       "      <td>...</td>\n",
       "      <td>...</td>\n",
       "      <td>...</td>\n",
       "      <td>...</td>\n",
       "      <td>...</td>\n",
       "      <td>...</td>\n",
       "      <td>...</td>\n",
       "      <td>...</td>\n",
       "      <td>...</td>\n",
       "      <td>...</td>\n",
       "      <td>...</td>\n",
       "      <td>...</td>\n",
       "      <td>...</td>\n",
       "    </tr>\n",
       "    <tr>\n",
       "      <th>313</th>\n",
       "      <td>8.6</td>\n",
       "      <td>0.47</td>\n",
       "      <td>0.30</td>\n",
       "      <td>3.0</td>\n",
       "      <td>0.076</td>\n",
       "      <td>30.0</td>\n",
       "      <td>135.0</td>\n",
       "      <td>0.99760</td>\n",
       "      <td>3.30</td>\n",
       "      <td>0.53</td>\n",
       "      <td>9.4</td>\n",
       "      <td>5</td>\n",
       "      <td>5</td>\n",
       "    </tr>\n",
       "    <tr>\n",
       "      <th>1105</th>\n",
       "      <td>6.3</td>\n",
       "      <td>0.57</td>\n",
       "      <td>0.28</td>\n",
       "      <td>2.1</td>\n",
       "      <td>0.048</td>\n",
       "      <td>13.0</td>\n",
       "      <td>49.0</td>\n",
       "      <td>0.99374</td>\n",
       "      <td>3.41</td>\n",
       "      <td>0.60</td>\n",
       "      <td>12.8</td>\n",
       "      <td>5</td>\n",
       "      <td>5</td>\n",
       "    </tr>\n",
       "    <tr>\n",
       "      <th>618</th>\n",
       "      <td>11.4</td>\n",
       "      <td>0.46</td>\n",
       "      <td>0.50</td>\n",
       "      <td>2.7</td>\n",
       "      <td>0.122</td>\n",
       "      <td>4.0</td>\n",
       "      <td>17.0</td>\n",
       "      <td>1.00060</td>\n",
       "      <td>3.13</td>\n",
       "      <td>0.70</td>\n",
       "      <td>10.2</td>\n",
       "      <td>5</td>\n",
       "      <td>5</td>\n",
       "    </tr>\n",
       "    <tr>\n",
       "      <th>1304</th>\n",
       "      <td>7.6</td>\n",
       "      <td>0.79</td>\n",
       "      <td>0.21</td>\n",
       "      <td>2.3</td>\n",
       "      <td>0.087</td>\n",
       "      <td>21.0</td>\n",
       "      <td>68.0</td>\n",
       "      <td>0.99550</td>\n",
       "      <td>3.12</td>\n",
       "      <td>0.44</td>\n",
       "      <td>9.2</td>\n",
       "      <td>5</td>\n",
       "      <td>5</td>\n",
       "    </tr>\n",
       "    <tr>\n",
       "      <th>534</th>\n",
       "      <td>10.0</td>\n",
       "      <td>0.48</td>\n",
       "      <td>0.24</td>\n",
       "      <td>2.7</td>\n",
       "      <td>0.102</td>\n",
       "      <td>13.0</td>\n",
       "      <td>32.0</td>\n",
       "      <td>1.00000</td>\n",
       "      <td>3.28</td>\n",
       "      <td>0.56</td>\n",
       "      <td>10.0</td>\n",
       "      <td>6</td>\n",
       "      <td>5</td>\n",
       "    </tr>\n",
       "  </tbody>\n",
       "</table>\n",
       "<p>400 rows × 13 columns</p>\n",
       "</div>"
      ],
      "text/plain": [
       "      fixed acidity  volatile acidity  citric acid  residual sugar  chlorides  \\\n",
       "942            10.1              0.43         0.40             2.6      0.092   \n",
       "576             9.9              0.50         0.24             2.3      0.103   \n",
       "562             9.0              0.54         0.49             2.9      0.094   \n",
       "322             7.8              0.62         0.05             2.3      0.079   \n",
       "311             7.9              0.53         0.24             2.0      0.072   \n",
       "...             ...               ...          ...             ...        ...   \n",
       "313             8.6              0.47         0.30             3.0      0.076   \n",
       "1105            6.3              0.57         0.28             2.1      0.048   \n",
       "618            11.4              0.46         0.50             2.7      0.122   \n",
       "1304            7.6              0.79         0.21             2.3      0.087   \n",
       "534            10.0              0.48         0.24             2.7      0.102   \n",
       "\n",
       "      free sulfur dioxide  total sulfur dioxide  density    pH  sulphates  \\\n",
       "942                  13.0                  52.0  0.99834  3.22       0.64   \n",
       "576                   6.0                  14.0  0.99780  3.34       0.52   \n",
       "562                  41.0                 110.0  0.99820  3.08       0.61   \n",
       "322                   6.0                  18.0  0.99735  3.29       0.63   \n",
       "311                  15.0                 105.0  0.99600  3.27       0.54   \n",
       "...                   ...                   ...      ...   ...        ...   \n",
       "313                  30.0                 135.0  0.99760  3.30       0.53   \n",
       "1105                 13.0                  49.0  0.99374  3.41       0.60   \n",
       "618                   4.0                  17.0  1.00060  3.13       0.70   \n",
       "1304                 21.0                  68.0  0.99550  3.12       0.44   \n",
       "534                  13.0                  32.0  1.00000  3.28       0.56   \n",
       "\n",
       "      alcohol  quality  predictions  \n",
       "942      10.0        7            6  \n",
       "576      10.0        4            5  \n",
       "562       9.2        5            5  \n",
       "322       9.3        5            5  \n",
       "311       9.4        6            5  \n",
       "...       ...      ...          ...  \n",
       "313       9.4        5            5  \n",
       "1105     12.8        5            5  \n",
       "618      10.2        5            5  \n",
       "1304      9.2        5            5  \n",
       "534      10.0        6            5  \n",
       "\n",
       "[400 rows x 13 columns]"
      ]
     },
     "execution_count": 541,
     "metadata": {},
     "output_type": "execute_result"
    }
   ],
   "source": [
    "# Add new column to test dataframe with predictions\n",
    "test[\"predictions\"] = predictions\n",
    "test"
   ]
  },
  {
   "cell_type": "markdown",
   "metadata": {},
   "source": [
    "<br>\n",
    "\n",
    "## Cross Validation\n",
    "https://scikit-learn.org/stable/modules/cross_validation.html"
   ]
  },
  {
   "cell_type": "code",
   "execution_count": 542,
   "metadata": {},
   "outputs": [
    {
     "data": {
      "text/plain": [
       "array([0.53125   , 0.55625   , 0.54375   , 0.490625  , 0.54545455])"
      ]
     },
     "execution_count": 542,
     "metadata": {},
     "output_type": "execute_result"
    }
   ],
   "source": [
    "knn = nei.KNeighborsClassifier()\n",
    "scores = mod.cross_val_score(knn, df[col_names], df['quality'])\n",
    "scores"
   ]
  },
  {
   "cell_type": "code",
   "execution_count": 543,
   "metadata": {},
   "outputs": [
    {
     "name": "stdout",
     "output_type": "stream",
     "text": [
      "Mean: 0.5334659090909091 \t Standard Deviation: 0.022842322434789248\n"
     ]
    }
   ],
   "source": [
    "print(f\"Mean: {scores.mean()} \\t Standard Deviation: {scores.std()}\") "
   ]
  },
  {
   "cell_type": "code",
   "execution_count": 544,
   "metadata": {},
   "outputs": [
    {
     "name": "stderr",
     "output_type": "stream",
     "text": [
      "/opt/anaconda3/lib/python3.8/site-packages/sklearn/linear_model/_logistic.py:762: ConvergenceWarning: lbfgs failed to converge (status=1):\n",
      "STOP: TOTAL NO. of ITERATIONS REACHED LIMIT.\n",
      "\n",
      "Increase the number of iterations (max_iter) or scale the data as shown in:\n",
      "    https://scikit-learn.org/stable/modules/preprocessing.html\n",
      "Please also refer to the documentation for alternative solver options:\n",
      "    https://scikit-learn.org/stable/modules/linear_model.html#logistic-regression\n",
      "  n_iter_i = _check_optimize_result(\n",
      "/opt/anaconda3/lib/python3.8/site-packages/sklearn/linear_model/_logistic.py:762: ConvergenceWarning: lbfgs failed to converge (status=1):\n",
      "STOP: TOTAL NO. of ITERATIONS REACHED LIMIT.\n",
      "\n",
      "Increase the number of iterations (max_iter) or scale the data as shown in:\n",
      "    https://scikit-learn.org/stable/modules/preprocessing.html\n",
      "Please also refer to the documentation for alternative solver options:\n",
      "    https://scikit-learn.org/stable/modules/linear_model.html#logistic-regression\n",
      "  n_iter_i = _check_optimize_result(\n",
      "/opt/anaconda3/lib/python3.8/site-packages/sklearn/linear_model/_logistic.py:762: ConvergenceWarning: lbfgs failed to converge (status=1):\n",
      "STOP: TOTAL NO. of ITERATIONS REACHED LIMIT.\n",
      "\n",
      "Increase the number of iterations (max_iter) or scale the data as shown in:\n",
      "    https://scikit-learn.org/stable/modules/preprocessing.html\n",
      "Please also refer to the documentation for alternative solver options:\n",
      "    https://scikit-learn.org/stable/modules/linear_model.html#logistic-regression\n",
      "  n_iter_i = _check_optimize_result(\n",
      "/opt/anaconda3/lib/python3.8/site-packages/sklearn/linear_model/_logistic.py:762: ConvergenceWarning: lbfgs failed to converge (status=1):\n",
      "STOP: TOTAL NO. of ITERATIONS REACHED LIMIT.\n",
      "\n",
      "Increase the number of iterations (max_iter) or scale the data as shown in:\n",
      "    https://scikit-learn.org/stable/modules/preprocessing.html\n",
      "Please also refer to the documentation for alternative solver options:\n",
      "    https://scikit-learn.org/stable/modules/linear_model.html#logistic-regression\n",
      "  n_iter_i = _check_optimize_result(\n",
      "/opt/anaconda3/lib/python3.8/site-packages/sklearn/linear_model/_logistic.py:762: ConvergenceWarning: lbfgs failed to converge (status=1):\n",
      "STOP: TOTAL NO. of ITERATIONS REACHED LIMIT.\n",
      "\n",
      "Increase the number of iterations (max_iter) or scale the data as shown in:\n",
      "    https://scikit-learn.org/stable/modules/preprocessing.html\n",
      "Please also refer to the documentation for alternative solver options:\n",
      "    https://scikit-learn.org/stable/modules/linear_model.html#logistic-regression\n",
      "  n_iter_i = _check_optimize_result(\n"
     ]
    },
    {
     "data": {
      "text/plain": [
       "array([0.8625    , 0.834375  , 0.88125   , 0.90625   , 0.88401254])"
      ]
     },
     "execution_count": 544,
     "metadata": {},
     "output_type": "execute_result"
    }
   ],
   "source": [
    "lre = lm.LogisticRegression(random_state=0)\n",
    "scores = mod.cross_val_score(lre, df[col_names], df['quality'])\n",
    "scores"
   ]
  },
  {
   "cell_type": "code",
   "execution_count": 545,
   "metadata": {},
   "outputs": [
    {
     "name": "stdout",
     "output_type": "stream",
     "text": [
      "Mean: 0.8736775078369906, \t Standard Deviation: 0.02406136554709315\n"
     ]
    }
   ],
   "source": [
    "print(f\"Mean: {scores.mean()}, \\t Standard Deviation: {scores.std()}\")"
   ]
  },
  {
   "cell_type": "markdown",
   "metadata": {},
   "source": [
    "Logistic regression is a better algorithm for predicting the wine's quality based on its chemical components. "
   ]
  },
  {
   "cell_type": "markdown",
   "metadata": {},
   "source": [
    "## Minimising the cost\n",
    "***"
   ]
  },
  {
   "cell_type": "markdown",
   "metadata": {},
   "source": [
    "To do:\n",
    "\n",
    "Explanation of minimising the cost. <br>\n",
    "Formula.  Y= mx + b"
   ]
  },
  {
   "cell_type": "code",
   "execution_count": 546,
   "metadata": {},
   "outputs": [],
   "source": [
    "polyfit = np.polyfit(df['alcohol'], df['quality'], 1)"
   ]
  },
  {
   "cell_type": "code",
   "execution_count": 547,
   "metadata": {},
   "outputs": [],
   "source": [
    "# First value returned from polyfit function.\n",
    "m = polyfit[0]"
   ]
  },
  {
   "cell_type": "code",
   "execution_count": 548,
   "metadata": {},
   "outputs": [],
   "source": [
    "c = polyfit[1]"
   ]
  },
  {
   "cell_type": "markdown",
   "metadata": {},
   "source": [
    "<br>\n",
    "\n",
    "## Plot the best fit line\n",
    "***"
   ]
  },
  {
   "cell_type": "code",
   "execution_count": 549,
   "metadata": {},
   "outputs": [
    {
     "data": {
      "image/png": "[encoded data removed]",
      "text/plain": [
       "<Figure size 1152x576 with 1 Axes>"
      ]
     },
     "metadata": {},
     "output_type": "display_data"
    }
   ],
   "source": [
    "# Plot the best fit line.\n",
    "plt.plot(x, y, 'k.', label='Original data')\n",
    "plt.plot(x, m * x + c, 'b-', label='Best fit line')\n",
    "\n",
    "# Add axis labels and a legend.\n",
    "plt.xlabel('Alcohol')\n",
    "plt.ylabel('Quality')\n",
    "plt.legend()\n",
    "\n",
    "# Show the plot.\n",
    "plt.show()"
   ]
  },
  {
   "cell_type": "markdown",
   "metadata": {},
   "source": [
    "## Scikit learn - `linearRegression()` function\n",
    "\n",
    "[Official Documentation](https://scikit-learn.org/stable/modules/generated/sklearn.linear_model.LinearRegression.html#sklearn.linear_model.LinearRegression)\n",
    "***"
   ]
  },
  {
   "cell_type": "markdown",
   "metadata": {},
   "source": [
    "Multiple linear regression\n",
    "\n",
    "- Explain linear regression"
   ]
  },
  {
   "cell_type": "code",
   "execution_count": 550,
   "metadata": {},
   "outputs": [],
   "source": [
    "# Load wine quality data set.\n",
    "df = pd.read_csv(\"data/winequality_red.csv\")"
   ]
  },
  {
   "cell_type": "code",
   "execution_count": 551,
   "metadata": {},
   "outputs": [],
   "source": [
    "# Split the data into input and output(target).\n",
    "x = df[['fixed acidity', 'volatile acidity', 'citric acid', \n",
    "             'residual sugar', 'chlorides', 'free sulfur dioxide', \n",
    "             'total sulfur dioxide', 'density', 'pH', 'sulphates','alcohol']].values\n",
    "\n",
    "y = df['quality'].values"
   ]
  },
  {
   "cell_type": "code",
   "execution_count": 552,
   "metadata": {},
   "outputs": [
    {
     "data": {
      "text/plain": [
       "<Figure size 1080x720 with 0 Axes>"
      ]
     },
     "metadata": {},
     "output_type": "display_data"
    },
    {
     "data": {
      "image/png": "[encoded data removed]",
      "text/plain": [
       "<Figure size 360x360 with 1 Axes>"
      ]
     },
     "metadata": {},
     "output_type": "display_data"
    }
   ],
   "source": [
    "# Have a look at the quality count again.\n",
    "plt.figure(figsize=(15,10))\n",
    "plt.tight_layout()\n",
    "sns.displot(df['quality']);"
   ]
  },
  {
   "cell_type": "code",
   "execution_count": 553,
   "metadata": {},
   "outputs": [],
   "source": [
    "# Split the data for training and testing.\n",
    "x_train, x_test, y_train, y_test = mod.train_test_split(x, y, test_size=0.2, random_state=0)"
   ]
  },
  {
   "cell_type": "markdown",
   "metadata": {},
   "source": [
    "With the code above 80 percent of the data will be used for training the algorithm and the remaining 20 percent will be for testing. This is specified with the `test_size` parameter. "
   ]
  },
  {
   "cell_type": "code",
   "execution_count": 554,
   "metadata": {},
   "outputs": [
    {
     "data": {
      "text/plain": [
       "LinearRegression()"
      ]
     },
     "execution_count": 554,
     "metadata": {},
     "output_type": "execute_result"
    }
   ],
   "source": [
    "# Fit training data to the model.\n",
    "regressor = lm.LinearRegression()\n",
    "regressor.fit(x_train, y_train)"
   ]
  },
  {
   "cell_type": "markdown",
   "metadata": {},
   "source": [
    "### Interpreting Regression Coefficients for Linear Relationships\n",
    "\n",
    "\"The sign of a regression coefficient tells you whether there is a positive or negative correlation between each independent variable and the dependent variable. A positive coefficient indicates that as the value of the independent variable increases, the mean of the dependent variable also tends to increase. A negative coefficient suggests that as the independent variable increases, the dependent variable tends to decrease.\n",
    "\n",
    "The coefficient value signifies how much the mean of the dependent variable changes given a one-unit shift in the independent variable while holding other variables in the model constant. This property of holding the other variables constant is crucial because it allows you to assess the effect of each variable in isolation from the others.\" [https://statisticsbyjim.com/regression/interpret-coefficients-p-values-regression/]"
   ]
  },
  {
   "cell_type": "code",
   "execution_count": 555,
   "metadata": {},
   "outputs": [
    {
     "data": {
      "text/html": [
       "<div>\n",
       "<style scoped>\n",
       "    .dataframe tbody tr th:only-of-type {\n",
       "        vertical-align: middle;\n",
       "    }\n",
       "\n",
       "    .dataframe tbody tr th {\n",
       "        vertical-align: top;\n",
       "    }\n",
       "\n",
       "    .dataframe thead th {\n",
       "        text-align: right;\n",
       "    }\n",
       "</style>\n",
       "<table border=\"1\" class=\"dataframe\">\n",
       "  <thead>\n",
       "    <tr style=\"text-align: right;\">\n",
       "      <th></th>\n",
       "      <th>Coefficient</th>\n",
       "    </tr>\n",
       "  </thead>\n",
       "  <tbody>\n",
       "    <tr>\n",
       "      <th>fixed acidity</th>\n",
       "      <td>0.041284</td>\n",
       "    </tr>\n",
       "    <tr>\n",
       "      <th>volatile acidity</th>\n",
       "      <td>-1.149528</td>\n",
       "    </tr>\n",
       "    <tr>\n",
       "      <th>citric acid</th>\n",
       "      <td>-0.177927</td>\n",
       "    </tr>\n",
       "    <tr>\n",
       "      <th>residual sugar</th>\n",
       "      <td>0.027870</td>\n",
       "    </tr>\n",
       "    <tr>\n",
       "      <th>chlorides</th>\n",
       "      <td>-1.873407</td>\n",
       "    </tr>\n",
       "    <tr>\n",
       "      <th>free sulfur dioxide</th>\n",
       "      <td>0.002684</td>\n",
       "    </tr>\n",
       "    <tr>\n",
       "      <th>total sulfur dioxide</th>\n",
       "      <td>-0.002777</td>\n",
       "    </tr>\n",
       "    <tr>\n",
       "      <th>density</th>\n",
       "      <td>-31.516666</td>\n",
       "    </tr>\n",
       "    <tr>\n",
       "      <th>pH</th>\n",
       "      <td>-0.254486</td>\n",
       "    </tr>\n",
       "    <tr>\n",
       "      <th>sulphates</th>\n",
       "      <td>0.924040</td>\n",
       "    </tr>\n",
       "    <tr>\n",
       "      <th>alcohol</th>\n",
       "      <td>0.267797</td>\n",
       "    </tr>\n",
       "  </tbody>\n",
       "</table>\n",
       "</div>"
      ],
      "text/plain": [
       "                      Coefficient\n",
       "fixed acidity            0.041284\n",
       "volatile acidity        -1.149528\n",
       "citric acid             -0.177927\n",
       "residual sugar           0.027870\n",
       "chlorides               -1.873407\n",
       "free sulfur dioxide      0.002684\n",
       "total sulfur dioxide    -0.002777\n",
       "density                -31.516666\n",
       "pH                      -0.254486\n",
       "sulphates                0.924040\n",
       "alcohol                  0.267797"
      ]
     },
     "execution_count": 555,
     "metadata": {},
     "output_type": "execute_result"
    }
   ],
   "source": [
    "# Return dataframe with features & coefficient values.\n",
    "coef = pd.DataFrame({'Coefficient': regressor.coef_})\n",
    "coef.index = [['fixed acidity', 'volatile acidity', 'citric acid', \n",
    "                   'residual sugar', 'chlorides', 'free sulfur dioxide', \n",
    "                   'total sulfur dioxide', 'density', 'pH', 'sulphates','alcohol']]\n",
    "coef"
   ]
  },
  {
   "cell_type": "code",
   "execution_count": 556,
   "metadata": {},
   "outputs": [
    {
     "data": {
      "text/plain": [
       "0.3654519616206866"
      ]
     },
     "execution_count": 556,
     "metadata": {},
     "output_type": "execute_result"
    }
   ],
   "source": [
    "# Predict quality in training data.\n",
    "train_pred = regressor.predict(x_train)\n",
    "regressor.score(x_train, y_train)"
   ]
  },
  {
   "cell_type": "markdown",
   "metadata": {},
   "source": [
    "<br>\n",
    "\n",
    "## `sklearn.metrics.mean_squared_error`\n",
    "\n",
    "3.3. Metrics and scoring: quantifying the quality of predictions: https://scikit-learn.org/stable/modules/model_evaluation.html"
   ]
  },
  {
   "cell_type": "code",
   "execution_count": 557,
   "metadata": {},
   "outputs": [
    {
     "ename": "NameError",
     "evalue": "name 'mean_squared_error' is not defined",
     "output_type": "error",
     "traceback": [
      "\u001b[0;31m---------------------------------------------------------------------------\u001b[0m",
      "\u001b[0;31mNameError\u001b[0m                                 Traceback (most recent call last)",
      "\u001b[0;32m/var/folders/xq/j7llnxgx78d984nx_t1lty9c0000gn/T/ipykernel_14414/3123778493.py\u001b[0m in \u001b[0;36m<module>\u001b[0;34m\u001b[0m\n\u001b[1;32m      1\u001b[0m \u001b[0;31m# calculating rmse\u001b[0m\u001b[0;34m\u001b[0m\u001b[0;34m\u001b[0m\u001b[0;34m\u001b[0m\u001b[0m\n\u001b[0;32m----> 2\u001b[0;31m \u001b[0mtrain_rmse\u001b[0m \u001b[0;34m=\u001b[0m \u001b[0mmean_squared_error\u001b[0m\u001b[0;34m(\u001b[0m\u001b[0mtrain_pred\u001b[0m\u001b[0;34m,\u001b[0m \u001b[0my_train\u001b[0m\u001b[0;34m)\u001b[0m \u001b[0;34m**\u001b[0m \u001b[0;36m0.5\u001b[0m\u001b[0;34m\u001b[0m\u001b[0;34m\u001b[0m\u001b[0m\n\u001b[0m\u001b[1;32m      3\u001b[0m \u001b[0mtrain_rmse\u001b[0m\u001b[0;34m\u001b[0m\u001b[0;34m\u001b[0m\u001b[0m\n",
      "\u001b[0;31mNameError\u001b[0m: name 'mean_squared_error' is not defined"
     ]
    }
   ],
   "source": [
    "# calculating rmse\n",
    "train_rmse = mean_squared_error(train_pred, y_train) ** 0.5\n",
    "train_rmse"
   ]
  },
  {
   "cell_type": "code",
   "execution_count": null,
   "metadata": {},
   "outputs": [],
   "source": [
    "test_rmse = mean_squared_error(test_pred, y_test) ** 0.5\n",
    "test_rmse"
   ]
  },
  {
   "cell_type": "code",
   "execution_count": null,
   "metadata": {},
   "outputs": [],
   "source": [
    "print('Mean Absolute Error:', met.mean_absolute_error(y_test, test_pred))\n",
    "print('Mean Squared Error:', met.mean_squared_error(y_test, test_pred))\n",
    "print('Root Mean Squared Error:', np.sqrt(met.mean_squared_error(y_test, test_pred)))"
   ]
  },
  {
   "cell_type": "code",
   "execution_count": null,
   "metadata": {},
   "outputs": [],
   "source": [
    "# displaying coefficients of each feature\n",
    "coeffecients = pd.DataFrame(regressor.coef_,features) \n",
    "coeffecients.columns = ['Coeffecient'] \n",
    "print(coeffecients)"
   ]
  },
  {
   "cell_type": "code",
   "execution_count": null,
   "metadata": {},
   "outputs": [],
   "source": []
  },
  {
   "cell_type": "code",
   "execution_count": null,
   "metadata": {},
   "outputs": [],
   "source": []
  },
  {
   "cell_type": "code",
   "execution_count": null,
   "metadata": {},
   "outputs": [],
   "source": []
  },
  {
   "cell_type": "code",
   "execution_count": null,
   "metadata": {},
   "outputs": [],
   "source": []
  },
  {
   "cell_type": "code",
   "execution_count": null,
   "metadata": {},
   "outputs": [],
   "source": []
  }
 ],
 "metadata": {
  "interpreter": {
   "hash": "40d3a090f54c6569ab1632332b64b2c03c39dcf918b08424e98f38b5ae0af88f"
  },
  "kernelspec": {
   "display_name": "Python 3 (ipykernel)",
   "language": "python",
   "name": "python3"
  },
  "language_info": {
   "codemirror_mode": {
    "name": "ipython",
    "version": 3
   },
   "file_extension": ".py",
   "mimetype": "text/x-python",
   "name": "python",
   "nbconvert_exporter": "python",
   "pygments_lexer": "ipython3",
   "version": "3.8.5"
  }
 },
 "nbformat": 4,
 "nbformat_minor": 4
}
